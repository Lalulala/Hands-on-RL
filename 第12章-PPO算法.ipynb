{
 "cells": [
  {
   "cell_type": "code",
   "execution_count": 10,
   "metadata": {
    "executionInfo": {
     "elapsed": 7103,
     "status": "ok",
     "timestamp": 1649955991305,
     "user": {
      "displayName": "Sam Lu",
      "userId": "15789059763790170725"
     },
     "user_tz": -480
    },
    "id": "rnRofK9F_TnT"
   },
   "outputs": [],
   "source": [
    "import gym\n",
    "import torch\n",
    "import torch.nn.functional as F\n",
    "import numpy as np\n",
    "import matplotlib.pyplot as plt\n",
    "import rl_utils\n",
    "\n",
    "\n",
    "class PolicyNet(torch.nn.Module):\n",
    "    def __init__(self, state_dim, hidden_dim, action_dim):\n",
    "        super(PolicyNet, self).__init__()\n",
    "        self.fc1 = torch.nn.Linear(state_dim, hidden_dim)\n",
    "        self.fc2 = torch.nn.Linear(hidden_dim, action_dim)\n",
    "\n",
    "    def forward(self, x):\n",
    "        x = F.relu(self.fc1(x))\n",
    "        return F.softmax(self.fc2(x), dim=1)\n",
    "\n",
    "\n",
    "class ValueNet(torch.nn.Module):\n",
    "    def __init__(self, state_dim, hidden_dim):\n",
    "        super(ValueNet, self).__init__()\n",
    "        self.fc1 = torch.nn.Linear(state_dim, hidden_dim)\n",
    "        self.fc2 = torch.nn.Linear(hidden_dim, 1)\n",
    "\n",
    "    def forward(self, x):\n",
    "        x = F.relu(self.fc1(x))\n",
    "        return self.fc2(x)\n",
    "\n",
    "\n",
    "class PPO:\n",
    "    ''' PPO算法,采用截断方式 '''\n",
    "    def __init__(self, state_dim, hidden_dim, action_dim, actor_lr, critic_lr,\n",
    "                 lmbda, epochs, eps, gamma, device):\n",
    "        self.actor = PolicyNet(state_dim, hidden_dim, action_dim).to(device)\n",
    "        self.critic = ValueNet(state_dim, hidden_dim).to(device)\n",
    "        self.actor_optimizer = torch.optim.Adam(self.actor.parameters(),\n",
    "                                                lr=actor_lr)\n",
    "        self.critic_optimizer = torch.optim.Adam(self.critic.parameters(),\n",
    "                                                 lr=critic_lr)\n",
    "        self.gamma = gamma\n",
    "        self.lmbda = lmbda\n",
    "        self.epochs = epochs  # 一条序列的数据用来训练轮数\n",
    "        self.eps = eps  # PPO中截断范围的参数\n",
    "        self.device = device\n",
    "\n",
    "    def take_action(self, state):\n",
    "        state = torch.tensor([state], dtype=torch.float).to(self.device)\n",
    "        probs = self.actor(state)\n",
    "        action_dist = torch.distributions.Categorical(probs)\n",
    "        action = action_dist.sample()\n",
    "        return action.item()\n",
    "\n",
    "    def update(self, transition_dict):\n",
    "        print('update')\n",
    "        states = torch.tensor(transition_dict['states'],\n",
    "                              dtype=torch.float).to(self.device)\n",
    "        \n",
    "        actions = torch.tensor(transition_dict['actions']).view(-1, 1).to(\n",
    "            self.device)\n",
    "        rewards = torch.tensor(transition_dict['rewards'],\n",
    "                               dtype=torch.float).view(-1, 1).to(self.device)\n",
    "        next_states = torch.tensor(transition_dict['next_states'],\n",
    "                                   dtype=torch.float).to(self.device)\n",
    "        dones = torch.tensor(transition_dict['dones'],\n",
    "                             dtype=torch.float).view(-1, 1).to(self.device)\n",
    "        td_target = rewards + self.gamma * self.critic(next_states) * (1 -\n",
    "                                                                       dones)\n",
    "        td_delta = td_target - self.critic(states)\n",
    "        advantage = rl_utils.compute_advantage(self.gamma, self.lmbda,\n",
    "                                               td_delta.cpu()).to(self.device)\n",
    "        \n",
    "        old_log_probs = torch.log(self.actor(states).gather(1,\n",
    "                                                            actions)).detach()\n",
    "        print('state.shape',states.shape)\n",
    "        print('actions.shape',actions.shape)\n",
    "        print('rewards.shape',rewards.shape)\n",
    "        print('next_states.shape',next_states.shape)\n",
    "        print('dones.shape',dones.shape)\n",
    "        print('td_target.shape',td_target.shape)\n",
    "        print('td_delta.shape',td_delta.shape)\n",
    "        print('advantage.shape',advantage.shape)\n",
    "        print('old_log_probs.shape',old_log_probs.shape)\n",
    "        for _ in range(self.epochs):\n",
    "            log_probs = torch.log(self.actor(states).gather(1, actions))\n",
    "            ratio = torch.exp(log_probs - old_log_probs)\n",
    "            surr1 = ratio * advantage\n",
    "            surr2 = torch.clamp(ratio, 1 - self.eps,\n",
    "                                1 + self.eps) * advantage  # 截断\n",
    "            actor_loss = torch.mean(-torch.min(surr1, surr2))  # PPO损失函数\n",
    "            critic_loss = torch.mean(\n",
    "                F.mse_loss(self.critic(states), td_target.detach()))\n",
    "            self.actor_optimizer.zero_grad()\n",
    "            self.critic_optimizer.zero_grad()\n",
    "            actor_loss.backward()\n",
    "            critic_loss.backward()\n",
    "            self.actor_optimizer.step()\n",
    "            self.critic_optimizer.step()"
   ]
  },
  {
   "cell_type": "code",
   "execution_count": 11,
   "metadata": {
    "colab": {
     "base_uri": "https://localhost:8080/"
    },
    "executionInfo": {
     "elapsed": 37845,
     "status": "ok",
     "timestamp": 1649956029144,
     "user": {
      "displayName": "Sam Lu",
      "userId": "15789059763790170725"
     },
     "user_tz": -480
    },
    "id": "-mccFiNn_TnV",
    "outputId": "48b888b5-d2a4-4505-e6cf-580efc7e782f"
   },
   "outputs": [
    {
     "name": "stderr",
     "output_type": "stream",
     "text": [
      "/usr/local/miniconda3/envs/HandsonRL/lib/python3.8/site-packages/gym/envs/registration.py:555: UserWarning: \u001b[33mWARN: The environment CartPole-v0 is out of date. You should consider upgrading to version `v1`.\u001b[0m\n",
      "  logger.warn(\n",
      "Iteration 0:   0%|          | 0/50 [00:00<?, ?it/s]/usr/local/miniconda3/envs/HandsonRL/lib/python3.8/site-packages/gym/utils/passive_env_checker.py:233: DeprecationWarning: `np.bool8` is a deprecated alias for `np.bool_`.  (Deprecated NumPy 1.24)\n",
      "  if not isinstance(terminated, (bool, np.bool8)):\n",
      "Iteration 0:   6%|▌         | 3/50 [00:00<00:02, 21.20it/s]"
     ]
    },
    {
     "name": "stdout",
     "output_type": "stream",
     "text": [
      "update\n",
      "state.shape torch.Size([34, 4])\n",
      "actions.shape torch.Size([34, 1])\n",
      "rewards.shape torch.Size([34, 1])\n",
      "next_states.shape torch.Size([34, 4])\n",
      "dones.shape torch.Size([34, 1])\n",
      "td_target.shape torch.Size([34, 1])\n",
      "td_delta.shape torch.Size([34, 1])\n",
      "advantage.shape torch.Size([34, 1])\n",
      "old_log_probs.shape torch.Size([34, 1])\n",
      "update\n",
      "state.shape torch.Size([22, 4])\n",
      "actions.shape torch.Size([22, 1])\n",
      "rewards.shape torch.Size([22, 1])\n",
      "next_states.shape torch.Size([22, 4])\n",
      "dones.shape torch.Size([22, 1])\n",
      "td_target.shape torch.Size([22, 1])\n",
      "td_delta.shape torch.Size([22, 1])\n",
      "advantage.shape torch.Size([22, 1])\n",
      "old_log_probs.shape torch.Size([22, 1])\n",
      "update\n",
      "state.shape torch.Size([38, 4])\n",
      "actions.shape torch.Size([38, 1])\n",
      "rewards.shape torch.Size([38, 1])\n",
      "next_states.shape torch.Size([38, 4])\n",
      "dones.shape torch.Size([38, 1])\n",
      "td_target.shape torch.Size([38, 1])\n",
      "td_delta.shape torch.Size([38, 1])\n",
      "advantage.shape torch.Size([38, 1])\n",
      "old_log_probs.shape torch.Size([38, 1])\n",
      "update\n",
      "state.shape torch.Size([21, 4])\n",
      "actions.shape torch.Size([21, 1])\n",
      "rewards.shape torch.Size([21, 1])\n",
      "next_states.shape torch.Size([21, 4])\n",
      "dones.shape torch.Size([21, 1])\n",
      "td_target.shape torch.Size([21, 1])\n",
      "td_delta.shape torch.Size([21, 1])\n",
      "advantage.shape torch.Size([21, 1])\n",
      "old_log_probs.shape torch.Size([21, 1])\n",
      "update\n",
      "state.shape torch.Size([25, 4])\n",
      "actions.shape torch.Size([25, 1])\n",
      "rewards.shape torch.Size([25, 1])\n",
      "next_states.shape torch.Size([25, 4])\n",
      "dones.shape torch.Size([25, 1])\n",
      "td_target.shape torch.Size([25, 1])\n",
      "td_delta.shape torch.Size([25, 1])\n",
      "advantage.shape torch.Size([25, 1])\n",
      "old_log_probs.shape torch.Size([25, 1])\n"
     ]
    },
    {
     "name": "stderr",
     "output_type": "stream",
     "text": [
      "Iteration 0:  18%|█▊        | 9/50 [00:00<00:01, 24.57it/s, episode=10, return=21.900]"
     ]
    },
    {
     "name": "stdout",
     "output_type": "stream",
     "text": [
      "update\n",
      "state.shape torch.Size([11, 4])\n",
      "actions.shape torch.Size([11, 1])\n",
      "rewards.shape torch.Size([11, 1])\n",
      "next_states.shape torch.Size([11, 4])\n",
      "dones.shape torch.Size([11, 1])\n",
      "td_target.shape torch.Size([11, 1])\n",
      "td_delta.shape torch.Size([11, 1])\n",
      "advantage.shape torch.Size([11, 1])\n",
      "old_log_probs.shape torch.Size([11, 1])\n",
      "update\n",
      "state.shape torch.Size([28, 4])\n",
      "actions.shape torch.Size([28, 1])\n",
      "rewards.shape torch.Size([28, 1])\n",
      "next_states.shape torch.Size([28, 4])\n",
      "dones.shape torch.Size([28, 1])\n",
      "td_target.shape torch.Size([28, 1])\n",
      "td_delta.shape torch.Size([28, 1])\n",
      "advantage.shape torch.Size([28, 1])\n",
      "old_log_probs.shape torch.Size([28, 1])\n",
      "update\n",
      "state.shape torch.Size([12, 4])\n",
      "actions.shape torch.Size([12, 1])\n",
      "rewards.shape torch.Size([12, 1])\n",
      "next_states.shape torch.Size([12, 4])\n",
      "dones.shape torch.Size([12, 1])\n",
      "td_target.shape torch.Size([12, 1])\n",
      "td_delta.shape torch.Size([12, 1])\n",
      "advantage.shape torch.Size([12, 1])\n",
      "old_log_probs.shape torch.Size([12, 1])\n",
      "update\n",
      "state.shape torch.Size([19, 4])\n",
      "actions.shape torch.Size([19, 1])\n",
      "rewards.shape torch.Size([19, 1])\n",
      "next_states.shape torch.Size([19, 4])\n",
      "dones.shape torch.Size([19, 1])\n",
      "td_target.shape torch.Size([19, 1])\n",
      "td_delta.shape torch.Size([19, 1])\n",
      "advantage.shape torch.Size([19, 1])\n",
      "old_log_probs.shape torch.Size([19, 1])\n",
      "update\n",
      "state.shape torch.Size([9, 4])\n",
      "actions.shape torch.Size([9, 1])\n",
      "rewards.shape torch.Size([9, 1])\n",
      "next_states.shape torch.Size([9, 4])\n",
      "dones.shape torch.Size([9, 1])\n",
      "td_target.shape torch.Size([9, 1])\n",
      "td_delta.shape torch.Size([9, 1])\n",
      "advantage.shape torch.Size([9, 1])\n",
      "old_log_probs.shape torch.Size([9, 1])\n",
      "update\n",
      "state.shape torch.Size([20, 4])\n",
      "actions.shape torch.Size([20, 1])\n",
      "rewards.shape torch.Size([20, 1])\n",
      "next_states.shape torch.Size([20, 4])\n",
      "dones.shape torch.Size([20, 1])\n",
      "td_target.shape torch.Size([20, 1])\n",
      "td_delta.shape torch.Size([20, 1])\n",
      "advantage.shape torch.Size([20, 1])\n",
      "old_log_probs.shape torch.Size([20, 1])\n"
     ]
    },
    {
     "name": "stderr",
     "output_type": "stream",
     "text": [
      "Iteration 0:  30%|███       | 15/50 [00:00<00:01, 23.47it/s, episode=10, return=21.900]"
     ]
    },
    {
     "name": "stdout",
     "output_type": "stream",
     "text": [
      "update\n",
      "state.shape torch.Size([16, 4])\n",
      "actions.shape torch.Size([16, 1])\n",
      "rewards.shape torch.Size([16, 1])\n",
      "next_states.shape torch.Size([16, 4])\n",
      "dones.shape torch.Size([16, 1])\n",
      "td_target.shape torch.Size([16, 1])\n",
      "td_delta.shape torch.Size([16, 1])\n",
      "advantage.shape torch.Size([16, 1])\n",
      "old_log_probs.shape torch.Size([16, 1])\n",
      "update\n",
      "state.shape torch.Size([18, 4])\n",
      "actions.shape torch.Size([18, 1])\n",
      "rewards.shape torch.Size([18, 1])\n",
      "next_states.shape torch.Size([18, 4])\n",
      "dones.shape torch.Size([18, 1])\n",
      "td_target.shape torch.Size([18, 1])\n",
      "td_delta.shape torch.Size([18, 1])\n",
      "advantage.shape torch.Size([18, 1])\n",
      "old_log_probs.shape torch.Size([18, 1])\n",
      "update\n",
      "state.shape torch.Size([11, 4])\n",
      "actions.shape torch.Size([11, 1])\n",
      "rewards.shape torch.Size([11, 1])\n",
      "next_states.shape torch.Size([11, 4])\n",
      "dones.shape torch.Size([11, 1])\n",
      "td_target.shape torch.Size([11, 1])\n",
      "td_delta.shape torch.Size([11, 1])\n",
      "advantage.shape torch.Size([11, 1])\n",
      "old_log_probs.shape torch.Size([11, 1])\n",
      "update\n",
      "state.shape torch.Size([76, 4])\n",
      "actions.shape torch.Size([76, 1])\n",
      "rewards.shape torch.Size([76, 1])\n",
      "next_states.shape torch.Size([76, 4])\n",
      "dones.shape torch.Size([76, 1])\n",
      "td_target.shape torch.Size([76, 1])\n",
      "td_delta.shape torch.Size([76, 1])\n",
      "advantage.shape torch.Size([76, 1])\n",
      "old_log_probs.shape torch.Size([76, 1])\n",
      "update\n",
      "state.shape torch.Size([39, 4])\n",
      "actions.shape torch.Size([39, 1])\n",
      "rewards.shape torch.Size([39, 1])\n",
      "next_states.shape torch.Size([39, 4])\n",
      "dones.shape torch.Size([39, 1])\n",
      "td_target.shape torch.Size([39, 1])\n",
      "td_delta.shape torch.Size([39, 1])\n",
      "advantage.shape torch.Size([39, 1])\n",
      "old_log_probs.shape torch.Size([39, 1])\n"
     ]
    },
    {
     "name": "stderr",
     "output_type": "stream",
     "text": [
      "Iteration 0:  36%|███▌      | 18/50 [00:00<00:01, 20.14it/s, episode=10, return=21.900]"
     ]
    },
    {
     "name": "stdout",
     "output_type": "stream",
     "text": [
      "update\n",
      "state.shape torch.Size([45, 4])\n",
      "actions.shape torch.Size([45, 1])\n",
      "rewards.shape torch.Size([45, 1])\n",
      "next_states.shape torch.Size([45, 4])\n",
      "dones.shape torch.Size([45, 1])\n",
      "td_target.shape torch.Size([45, 1])\n",
      "td_delta.shape torch.Size([45, 1])\n",
      "advantage.shape torch.Size([45, 1])\n",
      "old_log_probs.shape torch.Size([45, 1])\n",
      "update\n",
      "state.shape torch.Size([119, 4])\n",
      "actions.shape torch.Size([119, 1])\n",
      "rewards.shape torch.Size([119, 1])\n",
      "next_states.shape torch.Size([119, 4])\n",
      "dones.shape torch.Size([119, 1])\n",
      "td_target.shape torch.Size([119, 1])\n",
      "td_delta.shape torch.Size([119, 1])\n",
      "advantage.shape torch.Size([119, 1])\n",
      "old_log_probs.shape torch.Size([119, 1])\n",
      "update\n",
      "state.shape torch.Size([95, 4])\n",
      "actions.shape torch.Size([95, 1])\n",
      "rewards.shape torch.Size([95, 1])\n",
      "next_states.shape torch.Size([95, 4])\n",
      "dones.shape torch.Size([95, 1])\n",
      "td_target.shape torch.Size([95, 1])\n",
      "td_delta.shape torch.Size([95, 1])\n",
      "advantage.shape torch.Size([95, 1])\n",
      "old_log_probs.shape torch.Size([95, 1])\n"
     ]
    },
    {
     "name": "stderr",
     "output_type": "stream",
     "text": [
      "Iteration 0:  42%|████▏     | 21/50 [00:01<00:01, 17.67it/s, episode=20, return=47.800]"
     ]
    },
    {
     "name": "stdout",
     "output_type": "stream",
     "text": [
      "update\n",
      "state.shape torch.Size([39, 4])\n",
      "actions.shape torch.Size([39, 1])\n",
      "rewards.shape torch.Size([39, 1])\n",
      "next_states.shape torch.Size([39, 4])\n",
      "dones.shape torch.Size([39, 1])\n",
      "td_target.shape torch.Size([39, 1])\n",
      "td_delta.shape torch.Size([39, 1])\n",
      "advantage.shape torch.Size([39, 1])\n",
      "old_log_probs.shape torch.Size([39, 1])\n",
      "update\n",
      "state.shape torch.Size([100, 4])\n",
      "actions.shape torch.Size([100, 1])\n",
      "rewards.shape torch.Size([100, 1])\n",
      "next_states.shape torch.Size([100, 4])\n",
      "dones.shape torch.Size([100, 1])\n",
      "td_target.shape torch.Size([100, 1])\n",
      "td_delta.shape torch.Size([100, 1])\n",
      "advantage.shape torch.Size([100, 1])\n",
      "old_log_probs.shape torch.Size([100, 1])\n",
      "update\n",
      "state.shape torch.Size([103, 4])\n",
      "actions.shape torch.Size([103, 1])\n",
      "rewards.shape torch.Size([103, 1])\n",
      "next_states.shape torch.Size([103, 4])\n",
      "dones.shape torch.Size([103, 1])\n",
      "td_target.shape torch.Size([103, 1])\n",
      "td_delta.shape torch.Size([103, 1])\n",
      "advantage.shape torch.Size([103, 1])\n",
      "old_log_probs.shape torch.Size([103, 1])\n"
     ]
    },
    {
     "name": "stderr",
     "output_type": "stream",
     "text": [
      "Iteration 0:  46%|████▌     | 23/50 [00:01<00:01, 16.52it/s, episode=20, return=47.800]"
     ]
    },
    {
     "name": "stdout",
     "output_type": "stream",
     "text": [
      "update\n",
      "state.shape torch.Size([69, 4])\n",
      "actions.shape torch.Size([69, 1])\n",
      "rewards.shape torch.Size([69, 1])\n",
      "next_states.shape torch.Size([69, 4])\n",
      "dones.shape torch.Size([69, 1])\n",
      "td_target.shape torch.Size([69, 1])\n",
      "td_delta.shape torch.Size([69, 1])\n",
      "advantage.shape torch.Size([69, 1])\n",
      "old_log_probs.shape torch.Size([69, 1])\n",
      "update\n",
      "state.shape torch.Size([26, 4])\n",
      "actions.shape torch.Size([26, 1])\n",
      "rewards.shape torch.Size([26, 1])\n",
      "next_states.shape torch.Size([26, 4])\n",
      "dones.shape torch.Size([26, 1])\n",
      "td_target.shape torch.Size([26, 1])\n",
      "td_delta.shape torch.Size([26, 1])\n",
      "advantage.shape torch.Size([26, 1])\n",
      "old_log_probs.shape torch.Size([26, 1])\n",
      "update\n",
      "state.shape torch.Size([51, 4])\n",
      "actions.shape torch.Size([51, 1])\n",
      "rewards.shape torch.Size([51, 1])\n",
      "next_states.shape torch.Size([51, 4])\n",
      "dones.shape torch.Size([51, 1])\n",
      "td_target.shape torch.Size([51, 1])\n",
      "td_delta.shape torch.Size([51, 1])\n",
      "advantage.shape torch.Size([51, 1])\n",
      "old_log_probs.shape torch.Size([51, 1])\n",
      "update\n",
      "state.shape torch.Size([140, 4])\n",
      "actions.shape torch.Size([140, 1])\n",
      "rewards.shape torch.Size([140, 1])\n",
      "next_states.shape torch.Size([140, 4])\n",
      "dones.shape torch.Size([140, 1])\n",
      "td_target.shape torch.Size([140, 1])\n",
      "td_delta.shape torch.Size([140, 1])\n",
      "advantage.shape torch.Size([140, 1])\n",
      "old_log_probs.shape torch.Size([140, 1])\n"
     ]
    },
    {
     "name": "stderr",
     "output_type": "stream",
     "text": [
      "Iteration 0:  56%|█████▌    | 28/50 [00:01<00:01, 12.79it/s, episode=20, return=47.800]"
     ]
    },
    {
     "name": "stdout",
     "output_type": "stream",
     "text": [
      "update\n",
      "state.shape torch.Size([151, 4])\n",
      "actions.shape torch.Size([151, 1])\n",
      "rewards.shape torch.Size([151, 1])\n",
      "next_states.shape torch.Size([151, 4])\n",
      "dones.shape torch.Size([151, 1])\n",
      "td_target.shape torch.Size([151, 1])\n",
      "td_delta.shape torch.Size([151, 1])\n",
      "advantage.shape torch.Size([151, 1])\n",
      "old_log_probs.shape torch.Size([151, 1])\n",
      "update\n",
      "state.shape torch.Size([200, 4])\n",
      "actions.shape torch.Size([200, 1])\n",
      "rewards.shape torch.Size([200, 1])\n",
      "next_states.shape torch.Size([200, 4])\n",
      "dones.shape torch.Size([200, 1])\n",
      "td_target.shape torch.Size([200, 1])\n",
      "td_delta.shape torch.Size([200, 1])\n",
      "advantage.shape torch.Size([200, 1])\n",
      "old_log_probs.shape torch.Size([200, 1])\n"
     ]
    },
    {
     "name": "stderr",
     "output_type": "stream",
     "text": [
      "Iteration 0:  60%|██████    | 30/50 [00:01<00:01, 12.36it/s, episode=30, return=106.000]"
     ]
    },
    {
     "name": "stdout",
     "output_type": "stream",
     "text": [
      "update\n",
      "state.shape torch.Size([165, 4])\n",
      "actions.shape torch.Size([165, 1])\n",
      "rewards.shape torch.Size([165, 1])\n",
      "next_states.shape torch.Size([165, 4])\n",
      "dones.shape torch.Size([165, 1])\n",
      "td_target.shape torch.Size([165, 1])\n",
      "td_delta.shape torch.Size([165, 1])\n",
      "advantage.shape torch.Size([165, 1])\n",
      "old_log_probs.shape torch.Size([165, 1])\n",
      "update\n",
      "state.shape torch.Size([55, 4])\n",
      "actions.shape torch.Size([55, 1])\n",
      "rewards.shape torch.Size([55, 1])\n",
      "next_states.shape torch.Size([55, 4])\n",
      "dones.shape torch.Size([55, 1])\n",
      "td_target.shape torch.Size([55, 1])\n",
      "td_delta.shape torch.Size([55, 1])\n",
      "advantage.shape torch.Size([55, 1])\n",
      "old_log_probs.shape torch.Size([55, 1])\n",
      "update\n",
      "state.shape torch.Size([146, 4])\n",
      "actions.shape torch.Size([146, 1])\n",
      "rewards.shape torch.Size([146, 1])\n",
      "next_states.shape torch.Size([146, 4])\n",
      "dones.shape torch.Size([146, 1])\n",
      "td_target.shape torch.Size([146, 1])\n",
      "td_delta.shape torch.Size([146, 1])\n",
      "advantage.shape torch.Size([146, 1])\n",
      "old_log_probs.shape torch.Size([146, 1])\n"
     ]
    },
    {
     "name": "stderr",
     "output_type": "stream",
     "text": [
      "Iteration 0:  68%|██████▊   | 34/50 [00:02<00:01, 12.06it/s, episode=30, return=106.000]"
     ]
    },
    {
     "name": "stdout",
     "output_type": "stream",
     "text": [
      "update\n",
      "state.shape torch.Size([118, 4])\n",
      "actions.shape torch.Size([118, 1])\n",
      "rewards.shape torch.Size([118, 1])\n",
      "next_states.shape torch.Size([118, 4])\n",
      "dones.shape torch.Size([118, 1])\n",
      "td_target.shape torch.Size([118, 1])\n",
      "td_delta.shape torch.Size([118, 1])\n",
      "advantage.shape torch.Size([118, 1])\n",
      "old_log_probs.shape torch.Size([118, 1])\n",
      "update\n",
      "state.shape torch.Size([138, 4])\n",
      "actions.shape torch.Size([138, 1])\n",
      "rewards.shape torch.Size([138, 1])\n",
      "next_states.shape torch.Size([138, 4])\n",
      "dones.shape torch.Size([138, 1])\n",
      "td_target.shape torch.Size([138, 1])\n",
      "td_delta.shape torch.Size([138, 1])\n",
      "advantage.shape torch.Size([138, 1])\n",
      "old_log_probs.shape torch.Size([138, 1])\n",
      "update\n",
      "state.shape torch.Size([26, 4])\n",
      "actions.shape torch.Size([26, 1])\n",
      "rewards.shape torch.Size([26, 1])\n",
      "next_states.shape torch.Size([26, 4])\n",
      "dones.shape torch.Size([26, 1])\n",
      "td_target.shape torch.Size([26, 1])\n",
      "td_delta.shape torch.Size([26, 1])\n",
      "advantage.shape torch.Size([26, 1])\n",
      "old_log_probs.shape torch.Size([26, 1])\n"
     ]
    },
    {
     "name": "stderr",
     "output_type": "stream",
     "text": [
      "Iteration 0:  72%|███████▏  | 36/50 [00:02<00:01, 12.76it/s, episode=30, return=106.000]"
     ]
    },
    {
     "name": "stdout",
     "output_type": "stream",
     "text": [
      "update\n",
      "state.shape torch.Size([115, 4])\n",
      "actions.shape torch.Size([115, 1])\n",
      "rewards.shape torch.Size([115, 1])\n",
      "next_states.shape torch.Size([115, 4])\n",
      "dones.shape torch.Size([115, 1])\n",
      "td_target.shape torch.Size([115, 1])\n",
      "td_delta.shape torch.Size([115, 1])\n",
      "advantage.shape torch.Size([115, 1])\n",
      "old_log_probs.shape torch.Size([115, 1])\n",
      "update\n",
      "state.shape torch.Size([26, 4])\n",
      "actions.shape torch.Size([26, 1])\n",
      "rewards.shape torch.Size([26, 1])\n",
      "next_states.shape torch.Size([26, 4])\n",
      "dones.shape torch.Size([26, 1])\n",
      "td_target.shape torch.Size([26, 1])\n",
      "td_delta.shape torch.Size([26, 1])\n",
      "advantage.shape torch.Size([26, 1])\n",
      "old_log_probs.shape torch.Size([26, 1])\n",
      "update\n",
      "state.shape torch.Size([200, 4])\n",
      "actions.shape torch.Size([200, 1])\n",
      "rewards.shape torch.Size([200, 1])\n",
      "next_states.shape torch.Size([200, 4])\n",
      "dones.shape torch.Size([200, 1])\n",
      "td_target.shape torch.Size([200, 1])\n",
      "td_delta.shape torch.Size([200, 1])\n",
      "advantage.shape torch.Size([200, 1])\n",
      "old_log_probs.shape torch.Size([200, 1])\n"
     ]
    },
    {
     "name": "stderr",
     "output_type": "stream",
     "text": [
      "Iteration 0:  76%|███████▌  | 38/50 [00:02<00:01, 10.37it/s, episode=30, return=106.000]"
     ]
    },
    {
     "name": "stdout",
     "output_type": "stream",
     "text": [
      "update\n",
      "state.shape torch.Size([200, 4])\n",
      "actions.shape torch.Size([200, 1])\n",
      "rewards.shape torch.Size([200, 1])\n",
      "next_states.shape torch.Size([200, 4])\n",
      "dones.shape torch.Size([200, 1])\n",
      "td_target.shape torch.Size([200, 1])\n",
      "td_delta.shape torch.Size([200, 1])\n",
      "advantage.shape torch.Size([200, 1])\n",
      "old_log_probs.shape torch.Size([200, 1])\n",
      "update\n",
      "state.shape torch.Size([200, 4])\n",
      "actions.shape torch.Size([200, 1])\n",
      "rewards.shape torch.Size([200, 1])\n",
      "next_states.shape torch.Size([200, 4])\n",
      "dones.shape torch.Size([200, 1])\n",
      "td_target.shape torch.Size([200, 1])\n",
      "td_delta.shape torch.Size([200, 1])\n",
      "advantage.shape torch.Size([200, 1])\n",
      "old_log_probs.shape torch.Size([200, 1])\n"
     ]
    },
    {
     "name": "stderr",
     "output_type": "stream",
     "text": [
      "Iteration 0:  80%|████████  | 40/50 [00:02<00:00, 10.04it/s, episode=40, return=125.500]"
     ]
    },
    {
     "name": "stdout",
     "output_type": "stream",
     "text": [
      "update\n",
      "state.shape torch.Size([86, 4])\n",
      "actions.shape torch.Size([86, 1])\n",
      "rewards.shape torch.Size([86, 1])\n",
      "next_states.shape torch.Size([86, 4])\n",
      "dones.shape torch.Size([86, 1])\n",
      "td_target.shape torch.Size([86, 1])\n",
      "td_delta.shape torch.Size([86, 1])\n",
      "advantage.shape torch.Size([86, 1])\n",
      "old_log_probs.shape torch.Size([86, 1])\n",
      "update\n",
      "state.shape torch.Size([200, 4])\n",
      "actions.shape torch.Size([200, 1])\n",
      "rewards.shape torch.Size([200, 1])\n",
      "next_states.shape torch.Size([200, 4])\n",
      "dones.shape torch.Size([200, 1])\n",
      "td_target.shape torch.Size([200, 1])\n",
      "td_delta.shape torch.Size([200, 1])\n",
      "advantage.shape torch.Size([200, 1])\n",
      "old_log_probs.shape torch.Size([200, 1])\n"
     ]
    },
    {
     "name": "stderr",
     "output_type": "stream",
     "text": [
      "Iteration 0:  86%|████████▌ | 43/50 [00:03<00:00,  8.44it/s, episode=40, return=125.500]"
     ]
    },
    {
     "name": "stdout",
     "output_type": "stream",
     "text": [
      "update\n",
      "state.shape torch.Size([191, 4])\n",
      "actions.shape torch.Size([191, 1])\n",
      "rewards.shape torch.Size([191, 1])\n",
      "next_states.shape torch.Size([191, 4])\n",
      "dones.shape torch.Size([191, 1])\n",
      "td_target.shape torch.Size([191, 1])\n",
      "td_delta.shape torch.Size([191, 1])\n",
      "advantage.shape torch.Size([191, 1])\n",
      "old_log_probs.shape torch.Size([191, 1])\n",
      "update\n",
      "state.shape torch.Size([200, 4])\n",
      "actions.shape torch.Size([200, 1])\n",
      "rewards.shape torch.Size([200, 1])\n",
      "next_states.shape torch.Size([200, 4])\n",
      "dones.shape torch.Size([200, 1])\n",
      "td_target.shape torch.Size([200, 1])\n",
      "td_delta.shape torch.Size([200, 1])\n",
      "advantage.shape torch.Size([200, 1])\n",
      "old_log_probs.shape torch.Size([200, 1])\n"
     ]
    },
    {
     "name": "stderr",
     "output_type": "stream",
     "text": [
      "Iteration 0:  90%|█████████ | 45/50 [00:03<00:00,  8.61it/s, episode=40, return=125.500]"
     ]
    },
    {
     "name": "stdout",
     "output_type": "stream",
     "text": [
      "update\n",
      "state.shape torch.Size([111, 4])\n",
      "actions.shape torch.Size([111, 1])\n",
      "rewards.shape torch.Size([111, 1])\n",
      "next_states.shape torch.Size([111, 4])\n",
      "dones.shape torch.Size([111, 1])\n",
      "td_target.shape torch.Size([111, 1])\n",
      "td_delta.shape torch.Size([111, 1])\n",
      "advantage.shape torch.Size([111, 1])\n",
      "old_log_probs.shape torch.Size([111, 1])\n",
      "update\n",
      "state.shape torch.Size([183, 4])\n",
      "actions.shape torch.Size([183, 1])\n",
      "rewards.shape torch.Size([183, 1])\n",
      "next_states.shape torch.Size([183, 4])\n",
      "dones.shape torch.Size([183, 1])\n",
      "td_target.shape torch.Size([183, 1])\n",
      "td_delta.shape torch.Size([183, 1])\n",
      "advantage.shape torch.Size([183, 1])\n",
      "old_log_probs.shape torch.Size([183, 1])\n"
     ]
    },
    {
     "name": "stderr",
     "output_type": "stream",
     "text": [
      "Iteration 0:  94%|█████████▍| 47/50 [00:03<00:00,  8.93it/s, episode=40, return=125.500]"
     ]
    },
    {
     "name": "stdout",
     "output_type": "stream",
     "text": [
      "update\n",
      "state.shape torch.Size([126, 4])\n",
      "actions.shape torch.Size([126, 1])\n",
      "rewards.shape torch.Size([126, 1])\n",
      "next_states.shape torch.Size([126, 4])\n",
      "dones.shape torch.Size([126, 1])\n",
      "td_target.shape torch.Size([126, 1])\n",
      "td_delta.shape torch.Size([126, 1])\n",
      "advantage.shape torch.Size([126, 1])\n",
      "old_log_probs.shape torch.Size([126, 1])\n",
      "update\n",
      "state.shape torch.Size([146, 4])\n",
      "actions.shape torch.Size([146, 1])\n",
      "rewards.shape torch.Size([146, 1])\n",
      "next_states.shape torch.Size([146, 4])\n",
      "dones.shape torch.Size([146, 1])\n",
      "td_target.shape torch.Size([146, 1])\n",
      "td_delta.shape torch.Size([146, 1])\n",
      "advantage.shape torch.Size([146, 1])\n",
      "old_log_probs.shape torch.Size([146, 1])\n"
     ]
    },
    {
     "name": "stderr",
     "output_type": "stream",
     "text": [
      "Iteration 0:  96%|█████████▌| 48/50 [00:03<00:00,  9.04it/s, episode=40, return=125.500]"
     ]
    },
    {
     "name": "stdout",
     "output_type": "stream",
     "text": [
      "update\n",
      "state.shape torch.Size([132, 4])\n",
      "actions.shape torch.Size([132, 1])\n",
      "rewards.shape torch.Size([132, 1])\n",
      "next_states.shape torch.Size([132, 4])\n",
      "dones.shape torch.Size([132, 1])\n",
      "td_target.shape torch.Size([132, 1])\n",
      "td_delta.shape torch.Size([132, 1])\n",
      "advantage.shape torch.Size([132, 1])\n",
      "old_log_probs.shape torch.Size([132, 1])\n",
      "update\n",
      "state.shape torch.Size([38, 4])\n",
      "actions.shape torch.Size([38, 1])\n",
      "rewards.shape torch.Size([38, 1])\n",
      "next_states.shape torch.Size([38, 4])\n",
      "dones.shape torch.Size([38, 1])\n",
      "td_target.shape torch.Size([38, 1])\n",
      "td_delta.shape torch.Size([38, 1])\n",
      "advantage.shape torch.Size([38, 1])\n",
      "old_log_probs.shape torch.Size([38, 1])\n",
      "update\n",
      "state.shape torch.Size([200, 4])\n",
      "actions.shape torch.Size([200, 1])\n",
      "rewards.shape torch.Size([200, 1])\n",
      "next_states.shape torch.Size([200, 4])\n",
      "dones.shape torch.Size([200, 1])\n",
      "td_target.shape torch.Size([200, 1])\n",
      "td_delta.shape torch.Size([200, 1])\n",
      "advantage.shape torch.Size([200, 1])\n",
      "old_log_probs.shape torch.Size([200, 1])\n"
     ]
    },
    {
     "name": "stderr",
     "output_type": "stream",
     "text": [
      "Iteration 0: 100%|██████████| 50/50 [00:03<00:00, 12.68it/s, episode=50, return=152.700]\n",
      "Iteration 1:   4%|▍         | 2/50 [00:00<00:06,  7.34it/s]"
     ]
    },
    {
     "name": "stdout",
     "output_type": "stream",
     "text": [
      "update\n",
      "state.shape torch.Size([200, 4])\n",
      "actions.shape torch.Size([200, 1])\n",
      "rewards.shape torch.Size([200, 1])\n",
      "next_states.shape torch.Size([200, 4])\n",
      "dones.shape torch.Size([200, 1])\n",
      "td_target.shape torch.Size([200, 1])\n",
      "td_delta.shape torch.Size([200, 1])\n",
      "advantage.shape torch.Size([200, 1])\n",
      "old_log_probs.shape torch.Size([200, 1])\n",
      "update\n",
      "state.shape torch.Size([200, 4])\n",
      "actions.shape torch.Size([200, 1])\n",
      "rewards.shape torch.Size([200, 1])\n",
      "next_states.shape torch.Size([200, 4])\n",
      "dones.shape torch.Size([200, 1])\n",
      "td_target.shape torch.Size([200, 1])\n",
      "td_delta.shape torch.Size([200, 1])\n",
      "advantage.shape torch.Size([200, 1])\n",
      "old_log_probs.shape torch.Size([200, 1])\n"
     ]
    },
    {
     "name": "stderr",
     "output_type": "stream",
     "text": [
      "Iteration 1:   8%|▊         | 4/50 [00:00<00:06,  7.25it/s]"
     ]
    },
    {
     "name": "stdout",
     "output_type": "stream",
     "text": [
      "update\n",
      "state.shape torch.Size([200, 4])\n",
      "actions.shape torch.Size([200, 1])\n",
      "rewards.shape torch.Size([200, 1])\n",
      "next_states.shape torch.Size([200, 4])\n",
      "dones.shape torch.Size([200, 1])\n",
      "td_target.shape torch.Size([200, 1])\n",
      "td_delta.shape torch.Size([200, 1])\n",
      "advantage.shape torch.Size([200, 1])\n",
      "old_log_probs.shape torch.Size([200, 1])\n",
      "update\n",
      "state.shape torch.Size([200, 4])\n",
      "actions.shape torch.Size([200, 1])\n",
      "rewards.shape torch.Size([200, 1])\n",
      "next_states.shape torch.Size([200, 4])\n",
      "dones.shape torch.Size([200, 1])\n",
      "td_target.shape torch.Size([200, 1])\n",
      "td_delta.shape torch.Size([200, 1])\n",
      "advantage.shape torch.Size([200, 1])\n",
      "old_log_probs.shape torch.Size([200, 1])\n"
     ]
    },
    {
     "name": "stderr",
     "output_type": "stream",
     "text": [
      "Iteration 1:  12%|█▏        | 6/50 [00:00<00:06,  7.10it/s]"
     ]
    },
    {
     "name": "stdout",
     "output_type": "stream",
     "text": [
      "update\n",
      "state.shape torch.Size([200, 4])\n",
      "actions.shape torch.Size([200, 1])\n",
      "rewards.shape torch.Size([200, 1])\n",
      "next_states.shape torch.Size([200, 4])\n",
      "dones.shape torch.Size([200, 1])\n",
      "td_target.shape torch.Size([200, 1])\n",
      "td_delta.shape torch.Size([200, 1])\n",
      "advantage.shape torch.Size([200, 1])\n",
      "old_log_probs.shape torch.Size([200, 1])\n",
      "update\n",
      "state.shape torch.Size([200, 4])\n",
      "actions.shape torch.Size([200, 1])\n",
      "rewards.shape torch.Size([200, 1])\n",
      "next_states.shape torch.Size([200, 4])\n",
      "dones.shape torch.Size([200, 1])\n",
      "td_target.shape torch.Size([200, 1])\n",
      "td_delta.shape torch.Size([200, 1])\n",
      "advantage.shape torch.Size([200, 1])\n",
      "old_log_probs.shape torch.Size([200, 1])\n"
     ]
    },
    {
     "name": "stderr",
     "output_type": "stream",
     "text": [
      "Iteration 1:  14%|█▍        | 7/50 [00:00<00:06,  7.14it/s]"
     ]
    },
    {
     "name": "stdout",
     "output_type": "stream",
     "text": [
      "update\n",
      "state.shape torch.Size([200, 4])\n",
      "actions.shape torch.Size([200, 1])\n",
      "rewards.shape torch.Size([200, 1])\n",
      "next_states.shape torch.Size([200, 4])\n",
      "dones.shape torch.Size([200, 1])\n",
      "td_target.shape torch.Size([200, 1])\n",
      "td_delta.shape torch.Size([200, 1])\n",
      "advantage.shape torch.Size([200, 1])\n",
      "old_log_probs.shape torch.Size([200, 1])\n",
      "update\n",
      "state.shape torch.Size([91, 4])\n",
      "actions.shape torch.Size([91, 1])\n",
      "rewards.shape torch.Size([91, 1])\n",
      "next_states.shape torch.Size([91, 4])\n",
      "dones.shape torch.Size([91, 1])\n",
      "td_target.shape torch.Size([91, 1])\n",
      "td_delta.shape torch.Size([91, 1])\n",
      "advantage.shape torch.Size([91, 1])\n",
      "old_log_probs.shape torch.Size([91, 1])\n"
     ]
    },
    {
     "name": "stderr",
     "output_type": "stream",
     "text": [
      "Iteration 1:  20%|██        | 10/50 [00:01<00:05,  7.76it/s, episode=60, return=189.100]"
     ]
    },
    {
     "name": "stdout",
     "output_type": "stream",
     "text": [
      "update\n",
      "state.shape torch.Size([200, 4])\n",
      "actions.shape torch.Size([200, 1])\n",
      "rewards.shape torch.Size([200, 1])\n",
      "next_states.shape torch.Size([200, 4])\n",
      "dones.shape torch.Size([200, 1])\n",
      "td_target.shape torch.Size([200, 1])\n",
      "td_delta.shape torch.Size([200, 1])\n",
      "advantage.shape torch.Size([200, 1])\n",
      "old_log_probs.shape torch.Size([200, 1])\n",
      "update\n",
      "state.shape torch.Size([200, 4])\n",
      "actions.shape torch.Size([200, 1])\n",
      "rewards.shape torch.Size([200, 1])\n",
      "next_states.shape torch.Size([200, 4])\n",
      "dones.shape torch.Size([200, 1])\n",
      "td_target.shape torch.Size([200, 1])\n",
      "td_delta.shape torch.Size([200, 1])\n",
      "advantage.shape torch.Size([200, 1])\n",
      "old_log_probs.shape torch.Size([200, 1])\n"
     ]
    },
    {
     "name": "stderr",
     "output_type": "stream",
     "text": [
      "Iteration 1:  24%|██▍       | 12/50 [00:01<00:05,  7.49it/s, episode=60, return=189.100]"
     ]
    },
    {
     "name": "stdout",
     "output_type": "stream",
     "text": [
      "update\n",
      "state.shape torch.Size([200, 4])\n",
      "actions.shape torch.Size([200, 1])\n",
      "rewards.shape torch.Size([200, 1])\n",
      "next_states.shape torch.Size([200, 4])\n",
      "dones.shape torch.Size([200, 1])\n",
      "td_target.shape torch.Size([200, 1])\n",
      "td_delta.shape torch.Size([200, 1])\n",
      "advantage.shape torch.Size([200, 1])\n",
      "old_log_probs.shape torch.Size([200, 1])\n",
      "update\n",
      "state.shape torch.Size([200, 4])\n",
      "actions.shape torch.Size([200, 1])\n",
      "rewards.shape torch.Size([200, 1])\n",
      "next_states.shape torch.Size([200, 4])\n",
      "dones.shape torch.Size([200, 1])\n",
      "td_target.shape torch.Size([200, 1])\n",
      "td_delta.shape torch.Size([200, 1])\n",
      "advantage.shape torch.Size([200, 1])\n",
      "old_log_probs.shape torch.Size([200, 1])\n"
     ]
    },
    {
     "name": "stderr",
     "output_type": "stream",
     "text": [
      "Iteration 1:  28%|██▊       | 14/50 [00:01<00:04,  7.46it/s, episode=60, return=189.100]"
     ]
    },
    {
     "name": "stdout",
     "output_type": "stream",
     "text": [
      "update\n",
      "state.shape torch.Size([200, 4])\n",
      "actions.shape torch.Size([200, 1])\n",
      "rewards.shape torch.Size([200, 1])\n",
      "next_states.shape torch.Size([200, 4])\n",
      "dones.shape torch.Size([200, 1])\n",
      "td_target.shape torch.Size([200, 1])\n",
      "td_delta.shape torch.Size([200, 1])\n",
      "advantage.shape torch.Size([200, 1])\n",
      "old_log_probs.shape torch.Size([200, 1])\n",
      "update\n",
      "state.shape torch.Size([189, 4])\n",
      "actions.shape torch.Size([189, 1])\n",
      "rewards.shape torch.Size([189, 1])\n",
      "next_states.shape torch.Size([189, 4])\n",
      "dones.shape torch.Size([189, 1])\n",
      "td_target.shape torch.Size([189, 1])\n",
      "td_delta.shape torch.Size([189, 1])\n",
      "advantage.shape torch.Size([189, 1])\n",
      "old_log_probs.shape torch.Size([189, 1])\n"
     ]
    },
    {
     "name": "stderr",
     "output_type": "stream",
     "text": [
      "Iteration 1:  32%|███▏      | 16/50 [00:02<00:04,  7.30it/s, episode=60, return=189.100]"
     ]
    },
    {
     "name": "stdout",
     "output_type": "stream",
     "text": [
      "update\n",
      "state.shape torch.Size([200, 4])\n",
      "actions.shape torch.Size([200, 1])\n",
      "rewards.shape torch.Size([200, 1])\n",
      "next_states.shape torch.Size([200, 4])\n",
      "dones.shape torch.Size([200, 1])\n",
      "td_target.shape torch.Size([200, 1])\n",
      "td_delta.shape torch.Size([200, 1])\n",
      "advantage.shape torch.Size([200, 1])\n",
      "old_log_probs.shape torch.Size([200, 1])\n",
      "update\n",
      "state.shape torch.Size([200, 4])\n",
      "actions.shape torch.Size([200, 1])\n",
      "rewards.shape torch.Size([200, 1])\n",
      "next_states.shape torch.Size([200, 4])\n",
      "dones.shape torch.Size([200, 1])\n",
      "td_target.shape torch.Size([200, 1])\n",
      "td_delta.shape torch.Size([200, 1])\n",
      "advantage.shape torch.Size([200, 1])\n",
      "old_log_probs.shape torch.Size([200, 1])\n"
     ]
    },
    {
     "name": "stderr",
     "output_type": "stream",
     "text": [
      "Iteration 1:  36%|███▌      | 18/50 [00:02<00:04,  7.23it/s, episode=60, return=189.100]"
     ]
    },
    {
     "name": "stdout",
     "output_type": "stream",
     "text": [
      "update\n",
      "state.shape torch.Size([200, 4])\n",
      "actions.shape torch.Size([200, 1])\n",
      "rewards.shape torch.Size([200, 1])\n",
      "next_states.shape torch.Size([200, 4])\n",
      "dones.shape torch.Size([200, 1])\n",
      "td_target.shape torch.Size([200, 1])\n",
      "td_delta.shape torch.Size([200, 1])\n",
      "advantage.shape torch.Size([200, 1])\n",
      "old_log_probs.shape torch.Size([200, 1])\n",
      "update\n",
      "state.shape torch.Size([200, 4])\n",
      "actions.shape torch.Size([200, 1])\n",
      "rewards.shape torch.Size([200, 1])\n",
      "next_states.shape torch.Size([200, 4])\n",
      "dones.shape torch.Size([200, 1])\n",
      "td_target.shape torch.Size([200, 1])\n",
      "td_delta.shape torch.Size([200, 1])\n",
      "advantage.shape torch.Size([200, 1])\n",
      "old_log_probs.shape torch.Size([200, 1])\n"
     ]
    },
    {
     "name": "stderr",
     "output_type": "stream",
     "text": [
      "Iteration 1:  40%|████      | 20/50 [00:02<00:04,  7.21it/s, episode=70, return=198.900]"
     ]
    },
    {
     "name": "stdout",
     "output_type": "stream",
     "text": [
      "update\n",
      "state.shape torch.Size([200, 4])\n",
      "actions.shape torch.Size([200, 1])\n",
      "rewards.shape torch.Size([200, 1])\n",
      "next_states.shape torch.Size([200, 4])\n",
      "dones.shape torch.Size([200, 1])\n",
      "td_target.shape torch.Size([200, 1])\n",
      "td_delta.shape torch.Size([200, 1])\n",
      "advantage.shape torch.Size([200, 1])\n",
      "old_log_probs.shape torch.Size([200, 1])\n",
      "update\n",
      "state.shape torch.Size([200, 4])\n",
      "actions.shape torch.Size([200, 1])\n",
      "rewards.shape torch.Size([200, 1])\n",
      "next_states.shape torch.Size([200, 4])\n",
      "dones.shape torch.Size([200, 1])\n",
      "td_target.shape torch.Size([200, 1])\n",
      "td_delta.shape torch.Size([200, 1])\n",
      "advantage.shape torch.Size([200, 1])\n",
      "old_log_probs.shape torch.Size([200, 1])\n"
     ]
    },
    {
     "name": "stderr",
     "output_type": "stream",
     "text": [
      "Iteration 1:  44%|████▍     | 22/50 [00:03<00:03,  7.12it/s, episode=70, return=198.900]"
     ]
    },
    {
     "name": "stdout",
     "output_type": "stream",
     "text": [
      "update\n",
      "state.shape torch.Size([200, 4])\n",
      "actions.shape torch.Size([200, 1])\n",
      "rewards.shape torch.Size([200, 1])\n",
      "next_states.shape torch.Size([200, 4])\n",
      "dones.shape torch.Size([200, 1])\n",
      "td_target.shape torch.Size([200, 1])\n",
      "td_delta.shape torch.Size([200, 1])\n",
      "advantage.shape torch.Size([200, 1])\n",
      "old_log_probs.shape torch.Size([200, 1])\n",
      "update\n",
      "state.shape torch.Size([200, 4])\n",
      "actions.shape torch.Size([200, 1])\n",
      "rewards.shape torch.Size([200, 1])\n",
      "next_states.shape torch.Size([200, 4])\n",
      "dones.shape torch.Size([200, 1])\n",
      "td_target.shape torch.Size([200, 1])\n",
      "td_delta.shape torch.Size([200, 1])\n",
      "advantage.shape torch.Size([200, 1])\n",
      "old_log_probs.shape torch.Size([200, 1])\n"
     ]
    },
    {
     "name": "stderr",
     "output_type": "stream",
     "text": [
      "Iteration 1:  48%|████▊     | 24/50 [00:03<00:03,  7.68it/s, episode=70, return=198.900]"
     ]
    },
    {
     "name": "stdout",
     "output_type": "stream",
     "text": [
      "update\n",
      "state.shape torch.Size([197, 4])\n",
      "actions.shape torch.Size([197, 1])\n",
      "rewards.shape torch.Size([197, 1])\n",
      "next_states.shape torch.Size([197, 4])\n",
      "dones.shape torch.Size([197, 1])\n",
      "td_target.shape torch.Size([197, 1])\n",
      "td_delta.shape torch.Size([197, 1])\n",
      "advantage.shape torch.Size([197, 1])\n",
      "old_log_probs.shape torch.Size([197, 1])\n",
      "update\n",
      "state.shape torch.Size([143, 4])\n",
      "actions.shape torch.Size([143, 1])\n",
      "rewards.shape torch.Size([143, 1])\n",
      "next_states.shape torch.Size([143, 4])\n",
      "dones.shape torch.Size([143, 1])\n",
      "td_target.shape torch.Size([143, 1])\n",
      "td_delta.shape torch.Size([143, 1])\n",
      "advantage.shape torch.Size([143, 1])\n",
      "old_log_probs.shape torch.Size([143, 1])\n"
     ]
    },
    {
     "name": "stderr",
     "output_type": "stream",
     "text": [
      "Iteration 1:  52%|█████▏    | 26/50 [00:03<00:02,  8.23it/s, episode=70, return=198.900]"
     ]
    },
    {
     "name": "stdout",
     "output_type": "stream",
     "text": [
      "update\n",
      "state.shape torch.Size([171, 4])\n",
      "actions.shape torch.Size([171, 1])\n",
      "rewards.shape torch.Size([171, 1])\n",
      "next_states.shape torch.Size([171, 4])\n",
      "dones.shape torch.Size([171, 1])\n",
      "td_target.shape torch.Size([171, 1])\n",
      "td_delta.shape torch.Size([171, 1])\n",
      "advantage.shape torch.Size([171, 1])\n",
      "old_log_probs.shape torch.Size([171, 1])\n",
      "update\n",
      "state.shape torch.Size([142, 4])\n",
      "actions.shape torch.Size([142, 1])\n",
      "rewards.shape torch.Size([142, 1])\n",
      "next_states.shape torch.Size([142, 4])\n",
      "dones.shape torch.Size([142, 1])\n",
      "td_target.shape torch.Size([142, 1])\n",
      "td_delta.shape torch.Size([142, 1])\n",
      "advantage.shape torch.Size([142, 1])\n",
      "old_log_probs.shape torch.Size([142, 1])\n"
     ]
    },
    {
     "name": "stderr",
     "output_type": "stream",
     "text": [
      "Iteration 1:  56%|█████▌    | 28/50 [00:03<00:02,  8.41it/s, episode=70, return=198.900]"
     ]
    },
    {
     "name": "stdout",
     "output_type": "stream",
     "text": [
      "update\n",
      "state.shape torch.Size([149, 4])\n",
      "actions.shape torch.Size([149, 1])\n",
      "rewards.shape torch.Size([149, 1])\n",
      "next_states.shape torch.Size([149, 4])\n",
      "dones.shape torch.Size([149, 1])\n",
      "td_target.shape torch.Size([149, 1])\n",
      "td_delta.shape torch.Size([149, 1])\n",
      "advantage.shape torch.Size([149, 1])\n",
      "old_log_probs.shape torch.Size([149, 1])\n",
      "update\n",
      "state.shape torch.Size([168, 4])\n",
      "actions.shape torch.Size([168, 1])\n",
      "rewards.shape torch.Size([168, 1])\n",
      "next_states.shape torch.Size([168, 4])\n",
      "dones.shape torch.Size([168, 1])\n",
      "td_target.shape torch.Size([168, 1])\n",
      "td_delta.shape torch.Size([168, 1])\n",
      "advantage.shape torch.Size([168, 1])\n",
      "old_log_probs.shape torch.Size([168, 1])\n"
     ]
    },
    {
     "name": "stderr",
     "output_type": "stream",
     "text": [
      "Iteration 1:  60%|██████    | 30/50 [00:03<00:02,  7.58it/s, episode=80, return=177.000]"
     ]
    },
    {
     "name": "stdout",
     "output_type": "stream",
     "text": [
      "update\n",
      "state.shape torch.Size([200, 4])\n",
      "actions.shape torch.Size([200, 1])\n",
      "rewards.shape torch.Size([200, 1])\n",
      "next_states.shape torch.Size([200, 4])\n",
      "dones.shape torch.Size([200, 1])\n",
      "td_target.shape torch.Size([200, 1])\n",
      "td_delta.shape torch.Size([200, 1])\n",
      "advantage.shape torch.Size([200, 1])\n",
      "old_log_probs.shape torch.Size([200, 1])\n",
      "update\n",
      "state.shape torch.Size([200, 4])\n",
      "actions.shape torch.Size([200, 1])\n",
      "rewards.shape torch.Size([200, 1])\n",
      "next_states.shape torch.Size([200, 4])\n",
      "dones.shape torch.Size([200, 1])\n",
      "td_target.shape torch.Size([200, 1])\n",
      "td_delta.shape torch.Size([200, 1])\n",
      "advantage.shape torch.Size([200, 1])\n",
      "old_log_probs.shape torch.Size([200, 1])\n"
     ]
    },
    {
     "name": "stderr",
     "output_type": "stream",
     "text": [
      "Iteration 1:  64%|██████▍   | 32/50 [00:04<00:02,  7.44it/s, episode=80, return=177.000]"
     ]
    },
    {
     "name": "stdout",
     "output_type": "stream",
     "text": [
      "update\n",
      "state.shape torch.Size([188, 4])\n",
      "actions.shape torch.Size([188, 1])\n",
      "rewards.shape torch.Size([188, 1])\n",
      "next_states.shape torch.Size([188, 4])\n",
      "dones.shape torch.Size([188, 1])\n",
      "td_target.shape torch.Size([188, 1])\n",
      "td_delta.shape torch.Size([188, 1])\n",
      "advantage.shape torch.Size([188, 1])\n",
      "old_log_probs.shape torch.Size([188, 1])\n",
      "update\n",
      "state.shape torch.Size([200, 4])\n",
      "actions.shape torch.Size([200, 1])\n",
      "rewards.shape torch.Size([200, 1])\n",
      "next_states.shape torch.Size([200, 4])\n",
      "dones.shape torch.Size([200, 1])\n",
      "td_target.shape torch.Size([200, 1])\n",
      "td_delta.shape torch.Size([200, 1])\n",
      "advantage.shape torch.Size([200, 1])\n",
      "old_log_probs.shape torch.Size([200, 1])\n"
     ]
    },
    {
     "name": "stderr",
     "output_type": "stream",
     "text": [
      "Iteration 1:  68%|██████▊   | 34/50 [00:04<00:02,  7.61it/s, episode=80, return=177.000]"
     ]
    },
    {
     "name": "stdout",
     "output_type": "stream",
     "text": [
      "update\n",
      "state.shape torch.Size([167, 4])\n",
      "actions.shape torch.Size([167, 1])\n",
      "rewards.shape torch.Size([167, 1])\n",
      "next_states.shape torch.Size([167, 4])\n",
      "dones.shape torch.Size([167, 1])\n",
      "td_target.shape torch.Size([167, 1])\n",
      "td_delta.shape torch.Size([167, 1])\n",
      "advantage.shape torch.Size([167, 1])\n",
      "old_log_probs.shape torch.Size([167, 1])\n",
      "update\n",
      "state.shape torch.Size([200, 4])\n",
      "actions.shape torch.Size([200, 1])\n",
      "rewards.shape torch.Size([200, 1])\n",
      "next_states.shape torch.Size([200, 4])\n",
      "dones.shape torch.Size([200, 1])\n",
      "td_target.shape torch.Size([200, 1])\n",
      "td_delta.shape torch.Size([200, 1])\n",
      "advantage.shape torch.Size([200, 1])\n",
      "old_log_probs.shape torch.Size([200, 1])\n"
     ]
    },
    {
     "name": "stderr",
     "output_type": "stream",
     "text": [
      "Iteration 1:  72%|███████▏  | 36/50 [00:04<00:01,  7.44it/s, episode=80, return=177.000]"
     ]
    },
    {
     "name": "stdout",
     "output_type": "stream",
     "text": [
      "update\n",
      "state.shape torch.Size([200, 4])\n",
      "actions.shape torch.Size([200, 1])\n",
      "rewards.shape torch.Size([200, 1])\n",
      "next_states.shape torch.Size([200, 4])\n",
      "dones.shape torch.Size([200, 1])\n",
      "td_target.shape torch.Size([200, 1])\n",
      "td_delta.shape torch.Size([200, 1])\n",
      "advantage.shape torch.Size([200, 1])\n",
      "old_log_probs.shape torch.Size([200, 1])\n",
      "update\n",
      "state.shape torch.Size([200, 4])\n",
      "actions.shape torch.Size([200, 1])\n",
      "rewards.shape torch.Size([200, 1])\n",
      "next_states.shape torch.Size([200, 4])\n",
      "dones.shape torch.Size([200, 1])\n",
      "td_target.shape torch.Size([200, 1])\n",
      "td_delta.shape torch.Size([200, 1])\n",
      "advantage.shape torch.Size([200, 1])\n",
      "old_log_probs.shape torch.Size([200, 1])\n"
     ]
    },
    {
     "name": "stderr",
     "output_type": "stream",
     "text": [
      "Iteration 1:  76%|███████▌  | 38/50 [00:05<00:01,  7.22it/s, episode=80, return=177.000]"
     ]
    },
    {
     "name": "stdout",
     "output_type": "stream",
     "text": [
      "update\n",
      "state.shape torch.Size([200, 4])\n",
      "actions.shape torch.Size([200, 1])\n",
      "rewards.shape torch.Size([200, 1])\n",
      "next_states.shape torch.Size([200, 4])\n",
      "dones.shape torch.Size([200, 1])\n",
      "td_target.shape torch.Size([200, 1])\n",
      "td_delta.shape torch.Size([200, 1])\n",
      "advantage.shape torch.Size([200, 1])\n",
      "old_log_probs.shape torch.Size([200, 1])\n",
      "update\n",
      "state.shape torch.Size([200, 4])\n",
      "actions.shape torch.Size([200, 1])\n",
      "rewards.shape torch.Size([200, 1])\n",
      "next_states.shape torch.Size([200, 4])\n",
      "dones.shape torch.Size([200, 1])\n",
      "td_target.shape torch.Size([200, 1])\n",
      "td_delta.shape torch.Size([200, 1])\n",
      "advantage.shape torch.Size([200, 1])\n",
      "old_log_probs.shape torch.Size([200, 1])\n"
     ]
    },
    {
     "name": "stderr",
     "output_type": "stream",
     "text": [
      "Iteration 1:  80%|████████  | 40/50 [00:05<00:01,  7.25it/s, episode=90, return=195.500]"
     ]
    },
    {
     "name": "stdout",
     "output_type": "stream",
     "text": [
      "update\n",
      "state.shape torch.Size([200, 4])\n",
      "actions.shape torch.Size([200, 1])\n",
      "rewards.shape torch.Size([200, 1])\n",
      "next_states.shape torch.Size([200, 4])\n",
      "dones.shape torch.Size([200, 1])\n",
      "td_target.shape torch.Size([200, 1])\n",
      "td_delta.shape torch.Size([200, 1])\n",
      "advantage.shape torch.Size([200, 1])\n",
      "old_log_probs.shape torch.Size([200, 1])\n",
      "update\n",
      "state.shape torch.Size([200, 4])\n",
      "actions.shape torch.Size([200, 1])\n",
      "rewards.shape torch.Size([200, 1])\n",
      "next_states.shape torch.Size([200, 4])\n",
      "dones.shape torch.Size([200, 1])\n",
      "td_target.shape torch.Size([200, 1])\n",
      "td_delta.shape torch.Size([200, 1])\n",
      "advantage.shape torch.Size([200, 1])\n",
      "old_log_probs.shape torch.Size([200, 1])\n"
     ]
    },
    {
     "name": "stderr",
     "output_type": "stream",
     "text": [
      "Iteration 1:  84%|████████▍ | 42/50 [00:05<00:01,  7.22it/s, episode=90, return=195.500]"
     ]
    },
    {
     "name": "stdout",
     "output_type": "stream",
     "text": [
      "update\n",
      "state.shape torch.Size([200, 4])\n",
      "actions.shape torch.Size([200, 1])\n",
      "rewards.shape torch.Size([200, 1])\n",
      "next_states.shape torch.Size([200, 4])\n",
      "dones.shape torch.Size([200, 1])\n",
      "td_target.shape torch.Size([200, 1])\n",
      "td_delta.shape torch.Size([200, 1])\n",
      "advantage.shape torch.Size([200, 1])\n",
      "old_log_probs.shape torch.Size([200, 1])\n",
      "update\n",
      "state.shape torch.Size([200, 4])\n",
      "actions.shape torch.Size([200, 1])\n",
      "rewards.shape torch.Size([200, 1])\n",
      "next_states.shape torch.Size([200, 4])\n",
      "dones.shape torch.Size([200, 1])\n",
      "td_target.shape torch.Size([200, 1])\n",
      "td_delta.shape torch.Size([200, 1])\n",
      "advantage.shape torch.Size([200, 1])\n",
      "old_log_probs.shape torch.Size([200, 1])\n"
     ]
    },
    {
     "name": "stderr",
     "output_type": "stream",
     "text": [
      "Iteration 1:  88%|████████▊ | 44/50 [00:05<00:00,  7.17it/s, episode=90, return=195.500]"
     ]
    },
    {
     "name": "stdout",
     "output_type": "stream",
     "text": [
      "update\n",
      "state.shape torch.Size([200, 4])\n",
      "actions.shape torch.Size([200, 1])\n",
      "rewards.shape torch.Size([200, 1])\n",
      "next_states.shape torch.Size([200, 4])\n",
      "dones.shape torch.Size([200, 1])\n",
      "td_target.shape torch.Size([200, 1])\n",
      "td_delta.shape torch.Size([200, 1])\n",
      "advantage.shape torch.Size([200, 1])\n",
      "old_log_probs.shape torch.Size([200, 1])\n",
      "update\n",
      "state.shape torch.Size([198, 4])\n",
      "actions.shape torch.Size([198, 1])\n",
      "rewards.shape torch.Size([198, 1])\n",
      "next_states.shape torch.Size([198, 4])\n",
      "dones.shape torch.Size([198, 1])\n",
      "td_target.shape torch.Size([198, 1])\n",
      "td_delta.shape torch.Size([198, 1])\n",
      "advantage.shape torch.Size([198, 1])\n",
      "old_log_probs.shape torch.Size([198, 1])\n"
     ]
    },
    {
     "name": "stderr",
     "output_type": "stream",
     "text": [
      "Iteration 1:  90%|█████████ | 45/50 [00:06<00:00,  6.93it/s, episode=90, return=195.500]"
     ]
    },
    {
     "name": "stdout",
     "output_type": "stream",
     "text": [
      "update\n",
      "state.shape torch.Size([200, 4])\n",
      "actions.shape torch.Size([200, 1])\n",
      "rewards.shape torch.Size([200, 1])\n",
      "next_states.shape torch.Size([200, 4])\n",
      "dones.shape torch.Size([200, 1])\n",
      "td_target.shape torch.Size([200, 1])\n",
      "td_delta.shape torch.Size([200, 1])\n",
      "advantage.shape torch.Size([200, 1])\n",
      "old_log_probs.shape torch.Size([200, 1])\n",
      "update\n",
      "state.shape torch.Size([87, 4])\n",
      "actions.shape torch.Size([87, 1])\n",
      "rewards.shape torch.Size([87, 1])\n",
      "next_states.shape torch.Size([87, 4])\n",
      "dones.shape torch.Size([87, 1])\n",
      "td_target.shape torch.Size([87, 1])\n",
      "td_delta.shape torch.Size([87, 1])\n",
      "advantage.shape torch.Size([87, 1])\n",
      "old_log_probs.shape torch.Size([87, 1])\n"
     ]
    },
    {
     "name": "stderr",
     "output_type": "stream",
     "text": [
      "Iteration 1:  96%|█████████▌| 48/50 [00:06<00:00,  7.63it/s, episode=90, return=195.500]"
     ]
    },
    {
     "name": "stdout",
     "output_type": "stream",
     "text": [
      "update\n",
      "state.shape torch.Size([200, 4])\n",
      "actions.shape torch.Size([200, 1])\n",
      "rewards.shape torch.Size([200, 1])\n",
      "next_states.shape torch.Size([200, 4])\n",
      "dones.shape torch.Size([200, 1])\n",
      "td_target.shape torch.Size([200, 1])\n",
      "td_delta.shape torch.Size([200, 1])\n",
      "advantage.shape torch.Size([200, 1])\n",
      "old_log_probs.shape torch.Size([200, 1])\n",
      "update\n",
      "state.shape torch.Size([200, 4])\n",
      "actions.shape torch.Size([200, 1])\n",
      "rewards.shape torch.Size([200, 1])\n",
      "next_states.shape torch.Size([200, 4])\n",
      "dones.shape torch.Size([200, 1])\n",
      "td_target.shape torch.Size([200, 1])\n",
      "td_delta.shape torch.Size([200, 1])\n",
      "advantage.shape torch.Size([200, 1])\n",
      "old_log_probs.shape torch.Size([200, 1])\n"
     ]
    },
    {
     "name": "stderr",
     "output_type": "stream",
     "text": [
      "Iteration 1: 100%|██████████| 50/50 [00:06<00:00,  7.45it/s, episode=100, return=188.500]\n"
     ]
    },
    {
     "name": "stdout",
     "output_type": "stream",
     "text": [
      "update\n",
      "state.shape torch.Size([200, 4])\n",
      "actions.shape torch.Size([200, 1])\n",
      "rewards.shape torch.Size([200, 1])\n",
      "next_states.shape torch.Size([200, 4])\n",
      "dones.shape torch.Size([200, 1])\n",
      "td_target.shape torch.Size([200, 1])\n",
      "td_delta.shape torch.Size([200, 1])\n",
      "advantage.shape torch.Size([200, 1])\n",
      "old_log_probs.shape torch.Size([200, 1])\n",
      "update\n",
      "state.shape torch.Size([200, 4])\n",
      "actions.shape torch.Size([200, 1])\n",
      "rewards.shape torch.Size([200, 1])\n",
      "next_states.shape torch.Size([200, 4])\n",
      "dones.shape torch.Size([200, 1])\n",
      "td_target.shape torch.Size([200, 1])\n",
      "td_delta.shape torch.Size([200, 1])\n",
      "advantage.shape torch.Size([200, 1])\n",
      "old_log_probs.shape torch.Size([200, 1])\n"
     ]
    },
    {
     "name": "stderr",
     "output_type": "stream",
     "text": [
      "Iteration 2:   4%|▍         | 2/50 [00:00<00:06,  7.27it/s]"
     ]
    },
    {
     "name": "stdout",
     "output_type": "stream",
     "text": [
      "update\n",
      "state.shape torch.Size([200, 4])\n",
      "actions.shape torch.Size([200, 1])\n",
      "rewards.shape torch.Size([200, 1])\n",
      "next_states.shape torch.Size([200, 4])\n",
      "dones.shape torch.Size([200, 1])\n",
      "td_target.shape torch.Size([200, 1])\n",
      "td_delta.shape torch.Size([200, 1])\n",
      "advantage.shape torch.Size([200, 1])\n",
      "old_log_probs.shape torch.Size([200, 1])\n",
      "update\n",
      "state.shape torch.Size([200, 4])\n",
      "actions.shape torch.Size([200, 1])\n",
      "rewards.shape torch.Size([200, 1])\n",
      "next_states.shape torch.Size([200, 4])\n",
      "dones.shape torch.Size([200, 1])\n",
      "td_target.shape torch.Size([200, 1])\n",
      "td_delta.shape torch.Size([200, 1])\n",
      "advantage.shape torch.Size([200, 1])\n",
      "old_log_probs.shape torch.Size([200, 1])\n"
     ]
    },
    {
     "name": "stderr",
     "output_type": "stream",
     "text": [
      "Iteration 2:   8%|▊         | 4/50 [00:00<00:06,  7.16it/s]"
     ]
    },
    {
     "name": "stdout",
     "output_type": "stream",
     "text": [
      "update\n",
      "state.shape torch.Size([200, 4])\n",
      "actions.shape torch.Size([200, 1])\n",
      "rewards.shape torch.Size([200, 1])\n",
      "next_states.shape torch.Size([200, 4])\n",
      "dones.shape torch.Size([200, 1])\n",
      "td_target.shape torch.Size([200, 1])\n",
      "td_delta.shape torch.Size([200, 1])\n",
      "advantage.shape torch.Size([200, 1])\n",
      "old_log_probs.shape torch.Size([200, 1])\n",
      "update\n",
      "state.shape torch.Size([200, 4])\n",
      "actions.shape torch.Size([200, 1])\n",
      "rewards.shape torch.Size([200, 1])\n",
      "next_states.shape torch.Size([200, 4])\n",
      "dones.shape torch.Size([200, 1])\n",
      "td_target.shape torch.Size([200, 1])\n",
      "td_delta.shape torch.Size([200, 1])\n",
      "advantage.shape torch.Size([200, 1])\n",
      "old_log_probs.shape torch.Size([200, 1])\n"
     ]
    },
    {
     "name": "stderr",
     "output_type": "stream",
     "text": [
      "Iteration 2:  12%|█▏        | 6/50 [00:00<00:06,  7.04it/s]"
     ]
    },
    {
     "name": "stdout",
     "output_type": "stream",
     "text": [
      "update\n",
      "state.shape torch.Size([200, 4])\n",
      "actions.shape torch.Size([200, 1])\n",
      "rewards.shape torch.Size([200, 1])\n",
      "next_states.shape torch.Size([200, 4])\n",
      "dones.shape torch.Size([200, 1])\n",
      "td_target.shape torch.Size([200, 1])\n",
      "td_delta.shape torch.Size([200, 1])\n",
      "advantage.shape torch.Size([200, 1])\n",
      "old_log_probs.shape torch.Size([200, 1])\n",
      "update\n",
      "state.shape torch.Size([200, 4])\n",
      "actions.shape torch.Size([200, 1])\n",
      "rewards.shape torch.Size([200, 1])\n",
      "next_states.shape torch.Size([200, 4])\n",
      "dones.shape torch.Size([200, 1])\n",
      "td_target.shape torch.Size([200, 1])\n",
      "td_delta.shape torch.Size([200, 1])\n",
      "advantage.shape torch.Size([200, 1])\n",
      "old_log_probs.shape torch.Size([200, 1])\n"
     ]
    },
    {
     "name": "stderr",
     "output_type": "stream",
     "text": [
      "Iteration 2:  16%|█▌        | 8/50 [00:01<00:05,  7.09it/s]"
     ]
    },
    {
     "name": "stdout",
     "output_type": "stream",
     "text": [
      "update\n",
      "state.shape torch.Size([200, 4])\n",
      "actions.shape torch.Size([200, 1])\n",
      "rewards.shape torch.Size([200, 1])\n",
      "next_states.shape torch.Size([200, 4])\n",
      "dones.shape torch.Size([200, 1])\n",
      "td_target.shape torch.Size([200, 1])\n",
      "td_delta.shape torch.Size([200, 1])\n",
      "advantage.shape torch.Size([200, 1])\n",
      "old_log_probs.shape torch.Size([200, 1])\n",
      "update\n",
      "state.shape torch.Size([200, 4])\n",
      "actions.shape torch.Size([200, 1])\n",
      "rewards.shape torch.Size([200, 1])\n",
      "next_states.shape torch.Size([200, 4])\n",
      "dones.shape torch.Size([200, 1])\n",
      "td_target.shape torch.Size([200, 1])\n",
      "td_delta.shape torch.Size([200, 1])\n",
      "advantage.shape torch.Size([200, 1])\n",
      "old_log_probs.shape torch.Size([200, 1])\n"
     ]
    },
    {
     "name": "stderr",
     "output_type": "stream",
     "text": [
      "Iteration 2:  20%|██        | 10/50 [00:01<00:05,  7.06it/s, episode=110, return=200.000]"
     ]
    },
    {
     "name": "stdout",
     "output_type": "stream",
     "text": [
      "update\n",
      "state.shape torch.Size([200, 4])\n",
      "actions.shape torch.Size([200, 1])\n",
      "rewards.shape torch.Size([200, 1])\n",
      "next_states.shape torch.Size([200, 4])\n",
      "dones.shape torch.Size([200, 1])\n",
      "td_target.shape torch.Size([200, 1])\n",
      "td_delta.shape torch.Size([200, 1])\n",
      "advantage.shape torch.Size([200, 1])\n",
      "old_log_probs.shape torch.Size([200, 1])\n",
      "update\n",
      "state.shape torch.Size([200, 4])\n",
      "actions.shape torch.Size([200, 1])\n",
      "rewards.shape torch.Size([200, 1])\n",
      "next_states.shape torch.Size([200, 4])\n",
      "dones.shape torch.Size([200, 1])\n",
      "td_target.shape torch.Size([200, 1])\n",
      "td_delta.shape torch.Size([200, 1])\n",
      "advantage.shape torch.Size([200, 1])\n",
      "old_log_probs.shape torch.Size([200, 1])\n"
     ]
    },
    {
     "name": "stderr",
     "output_type": "stream",
     "text": [
      "Iteration 2:  24%|██▍       | 12/50 [00:01<00:05,  7.16it/s, episode=110, return=200.000]"
     ]
    },
    {
     "name": "stdout",
     "output_type": "stream",
     "text": [
      "update\n",
      "state.shape torch.Size([200, 4])\n",
      "actions.shape torch.Size([200, 1])\n",
      "rewards.shape torch.Size([200, 1])\n",
      "next_states.shape torch.Size([200, 4])\n",
      "dones.shape torch.Size([200, 1])\n",
      "td_target.shape torch.Size([200, 1])\n",
      "td_delta.shape torch.Size([200, 1])\n",
      "advantage.shape torch.Size([200, 1])\n",
      "old_log_probs.shape torch.Size([200, 1])\n",
      "update\n",
      "state.shape torch.Size([200, 4])\n",
      "actions.shape torch.Size([200, 1])\n",
      "rewards.shape torch.Size([200, 1])\n",
      "next_states.shape torch.Size([200, 4])\n",
      "dones.shape torch.Size([200, 1])\n",
      "td_target.shape torch.Size([200, 1])\n",
      "td_delta.shape torch.Size([200, 1])\n",
      "advantage.shape torch.Size([200, 1])\n",
      "old_log_probs.shape torch.Size([200, 1])\n"
     ]
    },
    {
     "name": "stderr",
     "output_type": "stream",
     "text": [
      "Iteration 2:  26%|██▌       | 13/50 [00:01<00:05,  7.18it/s, episode=110, return=200.000]"
     ]
    },
    {
     "name": "stdout",
     "output_type": "stream",
     "text": [
      "update\n",
      "state.shape torch.Size([200, 4])\n",
      "actions.shape torch.Size([200, 1])\n",
      "rewards.shape torch.Size([200, 1])\n",
      "next_states.shape torch.Size([200, 4])\n",
      "dones.shape torch.Size([200, 1])\n",
      "td_target.shape torch.Size([200, 1])\n",
      "td_delta.shape torch.Size([200, 1])\n",
      "advantage.shape torch.Size([200, 1])\n",
      "old_log_probs.shape torch.Size([200, 1])\n",
      "update\n",
      "state.shape torch.Size([127, 4])\n",
      "actions.shape torch.Size([127, 1])\n",
      "rewards.shape torch.Size([127, 1])\n",
      "next_states.shape torch.Size([127, 4])\n",
      "dones.shape torch.Size([127, 1])\n",
      "td_target.shape torch.Size([127, 1])\n",
      "td_delta.shape torch.Size([127, 1])\n",
      "advantage.shape torch.Size([127, 1])\n",
      "old_log_probs.shape torch.Size([127, 1])\n"
     ]
    },
    {
     "name": "stderr",
     "output_type": "stream",
     "text": [
      "Iteration 2:  30%|███       | 15/50 [00:02<00:04,  7.79it/s, episode=110, return=200.000]"
     ]
    },
    {
     "name": "stdout",
     "output_type": "stream",
     "text": [
      "update\n",
      "state.shape torch.Size([200, 4])\n",
      "actions.shape torch.Size([200, 1])\n",
      "rewards.shape torch.Size([200, 1])\n",
      "next_states.shape torch.Size([200, 4])\n",
      "dones.shape torch.Size([200, 1])\n",
      "td_target.shape torch.Size([200, 1])\n",
      "td_delta.shape torch.Size([200, 1])\n",
      "advantage.shape torch.Size([200, 1])\n",
      "old_log_probs.shape torch.Size([200, 1])\n",
      "update\n",
      "state.shape torch.Size([111, 4])\n",
      "actions.shape torch.Size([111, 1])\n",
      "rewards.shape torch.Size([111, 1])\n",
      "next_states.shape torch.Size([111, 4])\n",
      "dones.shape torch.Size([111, 1])\n",
      "td_target.shape torch.Size([111, 1])\n",
      "td_delta.shape torch.Size([111, 1])\n",
      "advantage.shape torch.Size([111, 1])\n",
      "old_log_probs.shape torch.Size([111, 1])\n"
     ]
    },
    {
     "name": "stderr",
     "output_type": "stream",
     "text": [
      "Iteration 2:  36%|███▌      | 18/50 [00:02<00:04,  7.89it/s, episode=110, return=200.000]"
     ]
    },
    {
     "name": "stdout",
     "output_type": "stream",
     "text": [
      "update\n",
      "state.shape torch.Size([200, 4])\n",
      "actions.shape torch.Size([200, 1])\n",
      "rewards.shape torch.Size([200, 1])\n",
      "next_states.shape torch.Size([200, 4])\n",
      "dones.shape torch.Size([200, 1])\n",
      "td_target.shape torch.Size([200, 1])\n",
      "td_delta.shape torch.Size([200, 1])\n",
      "advantage.shape torch.Size([200, 1])\n",
      "old_log_probs.shape torch.Size([200, 1])\n",
      "update\n",
      "state.shape torch.Size([200, 4])\n",
      "actions.shape torch.Size([200, 1])\n",
      "rewards.shape torch.Size([200, 1])\n",
      "next_states.shape torch.Size([200, 4])\n",
      "dones.shape torch.Size([200, 1])\n",
      "td_target.shape torch.Size([200, 1])\n",
      "td_delta.shape torch.Size([200, 1])\n",
      "advantage.shape torch.Size([200, 1])\n",
      "old_log_probs.shape torch.Size([200, 1])\n"
     ]
    },
    {
     "name": "stderr",
     "output_type": "stream",
     "text": [
      "Iteration 2:  40%|████      | 20/50 [00:02<00:03,  8.44it/s, episode=120, return=171.700]"
     ]
    },
    {
     "name": "stdout",
     "output_type": "stream",
     "text": [
      "update\n",
      "state.shape torch.Size([79, 4])\n",
      "actions.shape torch.Size([79, 1])\n",
      "rewards.shape torch.Size([79, 1])\n",
      "next_states.shape torch.Size([79, 4])\n",
      "dones.shape torch.Size([79, 1])\n",
      "td_target.shape torch.Size([79, 1])\n",
      "td_delta.shape torch.Size([79, 1])\n",
      "advantage.shape torch.Size([79, 1])\n",
      "old_log_probs.shape torch.Size([79, 1])\n",
      "update\n",
      "state.shape torch.Size([200, 4])\n",
      "actions.shape torch.Size([200, 1])\n",
      "rewards.shape torch.Size([200, 1])\n",
      "next_states.shape torch.Size([200, 4])\n",
      "dones.shape torch.Size([200, 1])\n",
      "td_target.shape torch.Size([200, 1])\n",
      "td_delta.shape torch.Size([200, 1])\n",
      "advantage.shape torch.Size([200, 1])\n",
      "old_log_probs.shape torch.Size([200, 1])\n"
     ]
    },
    {
     "name": "stderr",
     "output_type": "stream",
     "text": [
      "Iteration 2:  44%|████▍     | 22/50 [00:02<00:03,  7.83it/s, episode=120, return=171.700]"
     ]
    },
    {
     "name": "stdout",
     "output_type": "stream",
     "text": [
      "update\n",
      "state.shape torch.Size([200, 4])\n",
      "actions.shape torch.Size([200, 1])\n",
      "rewards.shape torch.Size([200, 1])\n",
      "next_states.shape torch.Size([200, 4])\n",
      "dones.shape torch.Size([200, 1])\n",
      "td_target.shape torch.Size([200, 1])\n",
      "td_delta.shape torch.Size([200, 1])\n",
      "advantage.shape torch.Size([200, 1])\n",
      "old_log_probs.shape torch.Size([200, 1])\n",
      "update\n",
      "state.shape torch.Size([200, 4])\n",
      "actions.shape torch.Size([200, 1])\n",
      "rewards.shape torch.Size([200, 1])\n",
      "next_states.shape torch.Size([200, 4])\n",
      "dones.shape torch.Size([200, 1])\n",
      "td_target.shape torch.Size([200, 1])\n",
      "td_delta.shape torch.Size([200, 1])\n",
      "advantage.shape torch.Size([200, 1])\n",
      "old_log_probs.shape torch.Size([200, 1])\n"
     ]
    },
    {
     "name": "stderr",
     "output_type": "stream",
     "text": [
      "Iteration 2:  48%|████▊     | 24/50 [00:03<00:03,  7.51it/s, episode=120, return=171.700]"
     ]
    },
    {
     "name": "stdout",
     "output_type": "stream",
     "text": [
      "update\n",
      "state.shape torch.Size([200, 4])\n",
      "actions.shape torch.Size([200, 1])\n",
      "rewards.shape torch.Size([200, 1])\n",
      "next_states.shape torch.Size([200, 4])\n",
      "dones.shape torch.Size([200, 1])\n",
      "td_target.shape torch.Size([200, 1])\n",
      "td_delta.shape torch.Size([200, 1])\n",
      "advantage.shape torch.Size([200, 1])\n",
      "old_log_probs.shape torch.Size([200, 1])\n",
      "update\n",
      "state.shape torch.Size([200, 4])\n",
      "actions.shape torch.Size([200, 1])\n",
      "rewards.shape torch.Size([200, 1])\n",
      "next_states.shape torch.Size([200, 4])\n",
      "dones.shape torch.Size([200, 1])\n",
      "td_target.shape torch.Size([200, 1])\n",
      "td_delta.shape torch.Size([200, 1])\n",
      "advantage.shape torch.Size([200, 1])\n",
      "old_log_probs.shape torch.Size([200, 1])\n"
     ]
    },
    {
     "name": "stderr",
     "output_type": "stream",
     "text": [
      "Iteration 2:  52%|█████▏    | 26/50 [00:03<00:03,  7.93it/s, episode=120, return=171.700]"
     ]
    },
    {
     "name": "stdout",
     "output_type": "stream",
     "text": [
      "update\n",
      "state.shape torch.Size([200, 4])\n",
      "actions.shape torch.Size([200, 1])\n",
      "rewards.shape torch.Size([200, 1])\n",
      "next_states.shape torch.Size([200, 4])\n",
      "dones.shape torch.Size([200, 1])\n",
      "td_target.shape torch.Size([200, 1])\n",
      "td_delta.shape torch.Size([200, 1])\n",
      "advantage.shape torch.Size([200, 1])\n",
      "old_log_probs.shape torch.Size([200, 1])\n",
      "update\n",
      "state.shape torch.Size([133, 4])\n",
      "actions.shape torch.Size([133, 1])\n",
      "rewards.shape torch.Size([133, 1])\n",
      "next_states.shape torch.Size([133, 4])\n",
      "dones.shape torch.Size([133, 1])\n",
      "td_target.shape torch.Size([133, 1])\n",
      "td_delta.shape torch.Size([133, 1])\n",
      "advantage.shape torch.Size([133, 1])\n",
      "old_log_probs.shape torch.Size([133, 1])\n"
     ]
    },
    {
     "name": "stderr",
     "output_type": "stream",
     "text": [
      "Iteration 2:  56%|█████▌    | 28/50 [00:03<00:02,  7.53it/s, episode=120, return=171.700]"
     ]
    },
    {
     "name": "stdout",
     "output_type": "stream",
     "text": [
      "update\n",
      "state.shape torch.Size([200, 4])\n",
      "actions.shape torch.Size([200, 1])\n",
      "rewards.shape torch.Size([200, 1])\n",
      "next_states.shape torch.Size([200, 4])\n",
      "dones.shape torch.Size([200, 1])\n",
      "td_target.shape torch.Size([200, 1])\n",
      "td_delta.shape torch.Size([200, 1])\n",
      "advantage.shape torch.Size([200, 1])\n",
      "old_log_probs.shape torch.Size([200, 1])\n",
      "update\n",
      "state.shape torch.Size([200, 4])\n",
      "actions.shape torch.Size([200, 1])\n",
      "rewards.shape torch.Size([200, 1])\n",
      "next_states.shape torch.Size([200, 4])\n",
      "dones.shape torch.Size([200, 1])\n",
      "td_target.shape torch.Size([200, 1])\n",
      "td_delta.shape torch.Size([200, 1])\n",
      "advantage.shape torch.Size([200, 1])\n",
      "old_log_probs.shape torch.Size([200, 1])\n"
     ]
    },
    {
     "name": "stderr",
     "output_type": "stream",
     "text": [
      "Iteration 2:  58%|█████▊    | 29/50 [00:03<00:02,  7.43it/s, episode=120, return=171.700]\n"
     ]
    },
    {
     "name": "stdout",
     "output_type": "stream",
     "text": [
      "update\n",
      "state.shape torch.Size([180, 4])\n",
      "actions.shape torch.Size([180, 1])\n",
      "rewards.shape torch.Size([180, 1])\n",
      "next_states.shape torch.Size([180, 4])\n",
      "dones.shape torch.Size([180, 1])\n",
      "td_target.shape torch.Size([180, 1])\n",
      "td_delta.shape torch.Size([180, 1])\n",
      "advantage.shape torch.Size([180, 1])\n",
      "old_log_probs.shape torch.Size([180, 1])\n"
     ]
    },
    {
     "ename": "KeyboardInterrupt",
     "evalue": "",
     "output_type": "error",
     "traceback": [
      "\u001b[0;31m---------------------------------------------------------------------------\u001b[0m",
      "\u001b[0;31mKeyboardInterrupt\u001b[0m                         Traceback (most recent call last)",
      "Cell \u001b[0;32mIn[11], line 21\u001b[0m\n\u001b[1;32m     17\u001b[0m action_dim \u001b[38;5;241m=\u001b[39m env\u001b[38;5;241m.\u001b[39maction_space\u001b[38;5;241m.\u001b[39mn\n\u001b[1;32m     18\u001b[0m agent \u001b[38;5;241m=\u001b[39m PPO(state_dim, hidden_dim, action_dim, actor_lr, critic_lr, lmbda,\n\u001b[1;32m     19\u001b[0m             epochs, eps, gamma, device)\n\u001b[0;32m---> 21\u001b[0m return_list \u001b[38;5;241m=\u001b[39m \u001b[43mrl_utils\u001b[49m\u001b[38;5;241;43m.\u001b[39;49m\u001b[43mtrain_on_policy_agent\u001b[49m\u001b[43m(\u001b[49m\u001b[43menv\u001b[49m\u001b[43m,\u001b[49m\u001b[43m \u001b[49m\u001b[43magent\u001b[49m\u001b[43m,\u001b[49m\u001b[43m \u001b[49m\u001b[43mnum_episodes\u001b[49m\u001b[43m)\u001b[49m\n",
      "File \u001b[0;32m/hy-tmp/Hands-on-RL/rl_utils.py:40\u001b[0m, in \u001b[0;36mtrain_on_policy_agent\u001b[0;34m(env, agent, num_episodes)\u001b[0m\n\u001b[1;32m     38\u001b[0m done \u001b[38;5;241m=\u001b[39m \u001b[38;5;28;01mFalse\u001b[39;00m\n\u001b[1;32m     39\u001b[0m \u001b[38;5;28;01mwhile\u001b[39;00m \u001b[38;5;129;01mnot\u001b[39;00m done:\n\u001b[0;32m---> 40\u001b[0m     action \u001b[38;5;241m=\u001b[39m \u001b[43magent\u001b[49m\u001b[38;5;241;43m.\u001b[39;49m\u001b[43mtake_action\u001b[49m\u001b[43m(\u001b[49m\u001b[43mstate\u001b[49m\u001b[43m)\u001b[49m\n\u001b[1;32m     41\u001b[0m     next_state, reward, treminate,trunc, _ \u001b[38;5;241m=\u001b[39m env\u001b[38;5;241m.\u001b[39mstep(action)\n\u001b[1;32m     42\u001b[0m     done \u001b[38;5;241m=\u001b[39m treminate \u001b[38;5;129;01mor\u001b[39;00m trunc\n",
      "Cell \u001b[0;32mIn[10], line 48\u001b[0m, in \u001b[0;36mPPO.take_action\u001b[0;34m(self, state)\u001b[0m\n\u001b[1;32m     47\u001b[0m \u001b[38;5;28;01mdef\u001b[39;00m \u001b[38;5;21mtake_action\u001b[39m(\u001b[38;5;28mself\u001b[39m, state):\n\u001b[0;32m---> 48\u001b[0m     state \u001b[38;5;241m=\u001b[39m \u001b[43mtorch\u001b[49m\u001b[38;5;241;43m.\u001b[39;49m\u001b[43mtensor\u001b[49m\u001b[43m(\u001b[49m\u001b[43m[\u001b[49m\u001b[43mstate\u001b[49m\u001b[43m]\u001b[49m\u001b[43m,\u001b[49m\u001b[43m \u001b[49m\u001b[43mdtype\u001b[49m\u001b[38;5;241;43m=\u001b[39;49m\u001b[43mtorch\u001b[49m\u001b[38;5;241;43m.\u001b[39;49m\u001b[43mfloat\u001b[49m\u001b[43m)\u001b[49m\u001b[38;5;241m.\u001b[39mto(\u001b[38;5;28mself\u001b[39m\u001b[38;5;241m.\u001b[39mdevice)\n\u001b[1;32m     49\u001b[0m     probs \u001b[38;5;241m=\u001b[39m \u001b[38;5;28mself\u001b[39m\u001b[38;5;241m.\u001b[39mactor(state)\n\u001b[1;32m     50\u001b[0m     action_dist \u001b[38;5;241m=\u001b[39m torch\u001b[38;5;241m.\u001b[39mdistributions\u001b[38;5;241m.\u001b[39mCategorical(probs)\n",
      "\u001b[0;31mKeyboardInterrupt\u001b[0m: "
     ]
    }
   ],
   "source": [
    "actor_lr = 1e-3\n",
    "critic_lr = 1e-2\n",
    "num_episodes = 500\n",
    "hidden_dim = 128\n",
    "gamma = 0.98\n",
    "lmbda = 0.95\n",
    "epochs = 10\n",
    "eps = 0.2\n",
    "device = torch.device(\"cuda\") if torch.cuda.is_available() else torch.device(\n",
    "    \"cpu\")\n",
    "\n",
    "env_name = 'CartPole-v0'\n",
    "env = gym.make(env_name)\n",
    "env.reset(seed=0)\n",
    "torch.manual_seed(0)\n",
    "state_dim = env.observation_space.shape[0]\n",
    "action_dim = env.action_space.n\n",
    "agent = PPO(state_dim, hidden_dim, action_dim, actor_lr, critic_lr, lmbda,\n",
    "            epochs, eps, gamma, device)\n",
    "\n",
    "return_list = rl_utils.train_on_policy_agent(env, agent, num_episodes)\n",
    "\n",
    "# Iteration 0: 100%|██████████| 50/50 [00:10<00:00,  4.81it/s, episode=50,\n",
    "# return=183.200]\n",
    "# Iteration 1: 100%|██████████| 50/50 [00:22<00:00,  2.24it/s, episode=100,\n",
    "# return=191.400]\n",
    "# Iteration 2: 100%|██████████| 50/50 [00:22<00:00,  2.24it/s, episode=150,\n",
    "# return=199.900]\n",
    "# Iteration 3: 100%|██████████| 50/50 [00:21<00:00,  2.33it/s, episode=200,\n",
    "# return=200.000]\n",
    "# Iteration 4: 100%|██████████| 50/50 [00:21<00:00,  2.29it/s, episode=250,\n",
    "# return=200.000]\n",
    "# Iteration 5: 100%|██████████| 50/50 [00:22<00:00,  2.22it/s, episode=300,\n",
    "# return=200.000]\n",
    "# Iteration 6: 100%|██████████| 50/50 [00:23<00:00,  2.14it/s, episode=350,\n",
    "# return=200.000]\n",
    "# Iteration 7: 100%|██████████| 50/50 [00:23<00:00,  2.16it/s, episode=400,\n",
    "# return=200.000]\n",
    "# Iteration 8: 100%|██████████| 50/50 [00:22<00:00,  2.23it/s, episode=450,\n",
    "# return=200.000]\n",
    "# Iteration 9: 100%|██████████| 50/50 [00:22<00:00,  2.25it/s, episode=500,\n",
    "# return=200.000]"
   ]
  },
  {
   "cell_type": "code",
   "execution_count": null,
   "metadata": {
    "colab": {
     "base_uri": "https://localhost:8080/",
     "height": 573
    },
    "executionInfo": {
     "elapsed": 612,
     "status": "ok",
     "timestamp": 1649956030111,
     "user": {
      "displayName": "Sam Lu",
      "userId": "15789059763790170725"
     },
     "user_tz": -480
    },
    "id": "QDlFqdIM_TnW",
    "outputId": "673a3058-989e-4ce5-8dbd-31c1fe4bf830"
   },
   "outputs": [
    {
     "data": {
      "image/png": "[encoded data removed]",
      "text/plain": [
       "<Figure size 640x480 with 1 Axes>"
      ]
     },
     "metadata": {},
     "output_type": "display_data"
    },
    {
     "data": {
      "image/png": "[encoded data removed]",
      "text/plain": [
       "<Figure size 640x480 with 1 Axes>"
      ]
     },
     "metadata": {},
     "output_type": "display_data"
    }
   ],
   "source": [
    "episodes_list = list(range(len(return_list)))\n",
    "plt.plot(episodes_list, return_list)\n",
    "plt.xlabel('Episodes')\n",
    "plt.ylabel('Returns')\n",
    "plt.title('PPO on {}'.format(env_name))\n",
    "plt.show()\n",
    "\n",
    "mv_return = rl_utils.moving_average(return_list, 9)\n",
    "plt.plot(episodes_list, mv_return)\n",
    "plt.xlabel('Episodes')\n",
    "plt.ylabel('Returns')\n",
    "plt.title('PPO on {}'.format(env_name))\n",
    "plt.show()"
   ]
  },
  {
   "cell_type": "code",
   "execution_count": null,
   "metadata": {
    "executionInfo": {
     "elapsed": 7,
     "status": "ok",
     "timestamp": 1649956030112,
     "user": {
      "displayName": "Sam Lu",
      "userId": "15789059763790170725"
     },
     "user_tz": -480
    },
    "id": "fgCdOpTq_TnW"
   },
   "outputs": [],
   "source": [
    "class PolicyNetContinuous(torch.nn.Module):\n",
    "    def __init__(self, state_dim, hidden_dim, action_dim):\n",
    "        super(PolicyNetContinuous, self).__init__()\n",
    "        self.fc1 = torch.nn.Linear(state_dim, hidden_dim)\n",
    "        self.fc_mu = torch.nn.Linear(hidden_dim, action_dim)\n",
    "        self.fc_std = torch.nn.Linear(hidden_dim, action_dim)\n",
    "\n",
    "    def forward(self, x):\n",
    "        x = F.relu(self.fc1(x))\n",
    "        mu = 2.0 * torch.tanh(self.fc_mu(x))\n",
    "        std = F.softplus(self.fc_std(x))\n",
    "        return mu, std\n",
    "\n",
    "\n",
    "class PPOContinuous:\n",
    "    ''' 处理连续动作的PPO算法 '''\n",
    "    def __init__(self, state_dim, hidden_dim, action_dim, actor_lr, critic_lr,\n",
    "                 lmbda, epochs, eps, gamma, device):\n",
    "        self.actor = PolicyNetContinuous(state_dim, hidden_dim,\n",
    "                                         action_dim).to(device)\n",
    "        self.critic = ValueNet(state_dim, hidden_dim).to(device)\n",
    "        self.actor_optimizer = torch.optim.Adam(self.actor.parameters(),\n",
    "                                                lr=actor_lr)\n",
    "        self.critic_optimizer = torch.optim.Adam(self.critic.parameters(),\n",
    "                                                 lr=critic_lr)\n",
    "        self.gamma = gamma\n",
    "        self.lmbda = lmbda\n",
    "        self.epochs = epochs\n",
    "        self.eps = eps\n",
    "        self.device = device\n",
    "\n",
    "    def take_action(self, state):\n",
    "        state = torch.tensor([state], dtype=torch.float).to(self.device)\n",
    "        mu, sigma = self.actor(state)\n",
    "        action_dist = torch.distributions.Normal(mu, sigma)\n",
    "        action = action_dist.sample()\n",
    "        return [action.item()]\n",
    "\n",
    "    def update(self, transition_dict):\n",
    "        states = torch.tensor(transition_dict['states'],\n",
    "                              dtype=torch.float).to(self.device)\n",
    "        actions = torch.tensor(transition_dict['actions'],\n",
    "                               dtype=torch.float).view(-1, 1).to(self.device)\n",
    "        rewards = torch.tensor(transition_dict['rewards'],\n",
    "                               dtype=torch.float).view(-1, 1).to(self.device)\n",
    "        next_states = torch.tensor(transition_dict['next_states'],\n",
    "                                   dtype=torch.float).to(self.device)\n",
    "        dones = torch.tensor(transition_dict['dones'],\n",
    "                             dtype=torch.float).view(-1, 1).to(self.device)\n",
    "        rewards = (rewards + 8.0) / 8.0  # 和TRPO一样,对奖励进行修改,方便训练\n",
    "        td_target = rewards + self.gamma * self.critic(next_states) * (1 -\n",
    "                                                                       dones)\n",
    "        td_delta = td_target - self.critic(states)\n",
    "        advantage = rl_utils.compute_advantage(self.gamma, self.lmbda,\n",
    "                                               td_delta.cpu()).to(self.device)\n",
    "        mu, std = self.actor(states)\n",
    "        action_dists = torch.distributions.Normal(mu.detach(), std.detach())\n",
    "        # 动作是正态分布\n",
    "        old_log_probs = action_dists.log_prob(actions)\n",
    "\n",
    "        for _ in range(self.epochs):\n",
    "            mu, std = self.actor(states)\n",
    "            action_dists = torch.distributions.Normal(mu, std)\n",
    "            log_probs = action_dists.log_prob(actions)\n",
    "            ratio = torch.exp(log_probs - old_log_probs)\n",
    "            surr1 = ratio * advantage\n",
    "            surr2 = torch.clamp(ratio, 1 - self.eps, 1 + self.eps) * advantage\n",
    "            actor_loss = torch.mean(-torch.min(surr1, surr2))\n",
    "            critic_loss = torch.mean(\n",
    "                F.mse_loss(self.critic(states), td_target.detach()))\n",
    "            self.actor_optimizer.zero_grad()\n",
    "            self.critic_optimizer.zero_grad()\n",
    "            actor_loss.backward()\n",
    "            critic_loss.backward()\n",
    "            self.actor_optimizer.step()\n",
    "            self.critic_optimizer.step()"
   ]
  },
  {
   "cell_type": "code",
   "execution_count": null,
   "metadata": {
    "colab": {
     "base_uri": "https://localhost:8080/"
    },
    "executionInfo": {
     "elapsed": 210368,
     "status": "ok",
     "timestamp": 1649956240475,
     "user": {
      "displayName": "Sam Lu",
      "userId": "15789059763790170725"
     },
     "user_tz": -480
    },
    "id": "zFwPi7ny_TnX",
    "outputId": "030c60e6-44ee-4901-f3c1-4f5946309869"
   },
   "outputs": [
    {
     "name": "stderr",
     "output_type": "stream",
     "text": [
      "/usr/local/miniconda3/envs/HandsonRL/lib/python3.8/site-packages/gym/envs/registration.py:555: UserWarning: \u001b[33mWARN: The environment Pendulum-v0 is out of date. You should consider upgrading to version `v1`.\u001b[0m\n",
      "  logger.warn(\n"
     ]
    },
    {
     "ename": "DeprecatedEnv",
     "evalue": "Environment version v0 for `Pendulum` is deprecated. Please use `Pendulum-v1` instead.",
     "output_type": "error",
     "traceback": [
      "\u001b[0;31m---------------------------------------------------------------------------\u001b[0m",
      "\u001b[0;31mDeprecatedEnv\u001b[0m                             Traceback (most recent call last)",
      "Cell \u001b[0;32mIn[7], line 13\u001b[0m\n\u001b[1;32m      9\u001b[0m device \u001b[38;5;241m=\u001b[39m torch\u001b[38;5;241m.\u001b[39mdevice(\u001b[38;5;124m\"\u001b[39m\u001b[38;5;124mcuda\u001b[39m\u001b[38;5;124m\"\u001b[39m) \u001b[38;5;28;01mif\u001b[39;00m torch\u001b[38;5;241m.\u001b[39mcuda\u001b[38;5;241m.\u001b[39mis_available() \u001b[38;5;28;01melse\u001b[39;00m torch\u001b[38;5;241m.\u001b[39mdevice(\n\u001b[1;32m     10\u001b[0m     \u001b[38;5;124m\"\u001b[39m\u001b[38;5;124mcpu\u001b[39m\u001b[38;5;124m\"\u001b[39m)\n\u001b[1;32m     12\u001b[0m env_name \u001b[38;5;241m=\u001b[39m \u001b[38;5;124m'\u001b[39m\u001b[38;5;124mPendulum-v0\u001b[39m\u001b[38;5;124m'\u001b[39m\n\u001b[0;32m---> 13\u001b[0m env \u001b[38;5;241m=\u001b[39m \u001b[43mgym\u001b[49m\u001b[38;5;241;43m.\u001b[39;49m\u001b[43mmake\u001b[49m\u001b[43m(\u001b[49m\u001b[43menv_name\u001b[49m\u001b[43m)\u001b[49m\n\u001b[1;32m     14\u001b[0m env\u001b[38;5;241m.\u001b[39mseed(\u001b[38;5;241m0\u001b[39m)\n\u001b[1;32m     15\u001b[0m torch\u001b[38;5;241m.\u001b[39mmanual_seed(\u001b[38;5;241m0\u001b[39m)\n",
      "File \u001b[0;32m/usr/local/miniconda3/envs/HandsonRL/lib/python3.8/site-packages/gym/envs/registration.py:569\u001b[0m, in \u001b[0;36mmake\u001b[0;34m(id, max_episode_steps, autoreset, apply_api_compatibility, disable_env_checker, **kwargs)\u001b[0m\n\u001b[1;32m    563\u001b[0m         logger\u001b[38;5;241m.\u001b[39mwarn(\n\u001b[1;32m    564\u001b[0m             \u001b[38;5;124mf\u001b[39m\u001b[38;5;124m\"\u001b[39m\u001b[38;5;124mUsing the latest versioned environment `\u001b[39m\u001b[38;5;132;01m{\u001b[39;00mnew_env_id\u001b[38;5;132;01m}\u001b[39;00m\u001b[38;5;124m` \u001b[39m\u001b[38;5;124m\"\u001b[39m\n\u001b[1;32m    565\u001b[0m             \u001b[38;5;124mf\u001b[39m\u001b[38;5;124m\"\u001b[39m\u001b[38;5;124minstead of the unversioned environment `\u001b[39m\u001b[38;5;132;01m{\u001b[39;00m\u001b[38;5;28mid\u001b[39m\u001b[38;5;132;01m}\u001b[39;00m\u001b[38;5;124m`.\u001b[39m\u001b[38;5;124m\"\u001b[39m\n\u001b[1;32m    566\u001b[0m         )\n\u001b[1;32m    568\u001b[0m     \u001b[38;5;28;01mif\u001b[39;00m spec_ \u001b[38;5;129;01mis\u001b[39;00m \u001b[38;5;28;01mNone\u001b[39;00m:\n\u001b[0;32m--> 569\u001b[0m         \u001b[43m_check_version_exists\u001b[49m\u001b[43m(\u001b[49m\u001b[43mns\u001b[49m\u001b[43m,\u001b[49m\u001b[43m \u001b[49m\u001b[43mname\u001b[49m\u001b[43m,\u001b[49m\u001b[43m \u001b[49m\u001b[43mversion\u001b[49m\u001b[43m)\u001b[49m\n\u001b[1;32m    570\u001b[0m         \u001b[38;5;28;01mraise\u001b[39;00m error\u001b[38;5;241m.\u001b[39mError(\u001b[38;5;124mf\u001b[39m\u001b[38;5;124m\"\u001b[39m\u001b[38;5;124mNo registered env with id: \u001b[39m\u001b[38;5;132;01m{\u001b[39;00m\u001b[38;5;28mid\u001b[39m\u001b[38;5;132;01m}\u001b[39;00m\u001b[38;5;124m\"\u001b[39m)\n\u001b[1;32m    572\u001b[0m _kwargs \u001b[38;5;241m=\u001b[39m spec_\u001b[38;5;241m.\u001b[39mkwargs\u001b[38;5;241m.\u001b[39mcopy()\n",
      "File \u001b[0;32m/usr/local/miniconda3/envs/HandsonRL/lib/python3.8/site-packages/gym/envs/registration.py:251\u001b[0m, in \u001b[0;36m_check_version_exists\u001b[0;34m(ns, name, version)\u001b[0m\n\u001b[1;32m    248\u001b[0m     \u001b[38;5;28;01mraise\u001b[39;00m error\u001b[38;5;241m.\u001b[39mVersionNotFound(message)\n\u001b[1;32m    250\u001b[0m \u001b[38;5;28;01mif\u001b[39;00m latest_spec \u001b[38;5;129;01mis\u001b[39;00m \u001b[38;5;129;01mnot\u001b[39;00m \u001b[38;5;28;01mNone\u001b[39;00m \u001b[38;5;129;01mand\u001b[39;00m version \u001b[38;5;241m<\u001b[39m latest_spec\u001b[38;5;241m.\u001b[39mversion:\n\u001b[0;32m--> 251\u001b[0m     \u001b[38;5;28;01mraise\u001b[39;00m error\u001b[38;5;241m.\u001b[39mDeprecatedEnv(\n\u001b[1;32m    252\u001b[0m         \u001b[38;5;124mf\u001b[39m\u001b[38;5;124m\"\u001b[39m\u001b[38;5;124mEnvironment version v\u001b[39m\u001b[38;5;132;01m{\u001b[39;00mversion\u001b[38;5;132;01m}\u001b[39;00m\u001b[38;5;124m for `\u001b[39m\u001b[38;5;132;01m{\u001b[39;00mget_env_id(ns,\u001b[38;5;250m \u001b[39mname,\u001b[38;5;250m \u001b[39m\u001b[38;5;28;01mNone\u001b[39;00m)\u001b[38;5;132;01m}\u001b[39;00m\u001b[38;5;124m` is deprecated. \u001b[39m\u001b[38;5;124m\"\u001b[39m\n\u001b[1;32m    253\u001b[0m         \u001b[38;5;124mf\u001b[39m\u001b[38;5;124m\"\u001b[39m\u001b[38;5;124mPlease use `\u001b[39m\u001b[38;5;132;01m{\u001b[39;00mlatest_spec\u001b[38;5;241m.\u001b[39mid\u001b[38;5;132;01m}\u001b[39;00m\u001b[38;5;124m` instead.\u001b[39m\u001b[38;5;124m\"\u001b[39m\n\u001b[1;32m    254\u001b[0m     )\n",
      "\u001b[0;31mDeprecatedEnv\u001b[0m: Environment version v0 for `Pendulum` is deprecated. Please use `Pendulum-v1` instead."
     ]
    }
   ],
   "source": [
    "actor_lr = 1e-4\n",
    "critic_lr = 5e-3\n",
    "num_episodes = 2000\n",
    "hidden_dim = 128\n",
    "gamma = 0.9\n",
    "lmbda = 0.9\n",
    "epochs = 10\n",
    "eps = 0.2\n",
    "device = torch.device(\"cuda\") if torch.cuda.is_available() else torch.device(\n",
    "    \"cpu\")\n",
    "\n",
    "env_name = 'Pendulum-v0'\n",
    "env = gym.make(env_name)\n",
    "env.seed(0)\n",
    "torch.manual_seed(0)\n",
    "state_dim = env.observation_space.shape[0]\n",
    "action_dim = env.action_space.shape[0]  # 连续动作空间\n",
    "agent = PPOContinuous(state_dim, hidden_dim, action_dim, actor_lr, critic_lr,\n",
    "                      lmbda, epochs, eps, gamma, device)\n",
    "\n",
    "return_list = rl_utils.train_on_policy_agent(env, agent, num_episodes)\n",
    "\n",
    "# Iteration 0: 100%|██████████| 200/200 [02:15<00:00,  1.47it/s, episode=200,\n",
    "# return=-984.137]\n",
    "# Iteration 1: 100%|██████████| 200/200 [02:17<00:00,  1.45it/s, episode=400,\n",
    "# return=-895.332]\n",
    "# Iteration 2: 100%|██████████| 200/200 [02:14<00:00,  1.48it/s, episode=600,\n",
    "# return=-518.916]\n",
    "# Iteration 3: 100%|██████████| 200/200 [02:19<00:00,  1.44it/s, episode=800,\n",
    "# return=-602.183]\n",
    "# Iteration 4: 100%|██████████| 200/200 [02:17<00:00,  1.45it/s, episode=1000,\n",
    "# return=-392.104]\n",
    "# Iteration 5: 100%|██████████| 200/200 [02:17<00:00,  1.45it/s, episode=1200,\n",
    "# return=-259.206]\n",
    "# Iteration 6: 100%|██████████| 200/200 [02:17<00:00,  1.45it/s, episode=1400,\n",
    "# return=-221.772]\n",
    "# Iteration 7: 100%|██████████| 200/200 [02:17<00:00,  1.45it/s, episode=1600,\n",
    "# return=-293.515]\n",
    "# Iteration 8: 100%|██████████| 200/200 [02:17<00:00,  1.45it/s, episode=1800,\n",
    "# return=-371.194]\n",
    "# Iteration 9: 100%|██████████| 200/200 [02:17<00:00,  1.45it/s, episode=2000,\n",
    "# return=-248.958]"
   ]
  },
  {
   "cell_type": "code",
   "execution_count": null,
   "metadata": {
    "colab": {
     "base_uri": "https://localhost:8080/",
     "height": 573
    },
    "executionInfo": {
     "elapsed": 1123,
     "status": "ok",
     "timestamp": 1649956241594,
     "user": {
      "displayName": "Sam Lu",
      "userId": "15789059763790170725"
     },
     "user_tz": -480
    },
    "id": "_lQ85nCC_TnY",
    "outputId": "39e0bfd7-e54e-4e0d-890a-bdf696a16534"
   },
   "outputs": [
    {
     "data": {
      "image/png": "[encoded data removed]",
      "text/plain": [
       "<Figure size 432x288 with 1 Axes>"
      ]
     },
     "metadata": {
      "needs_background": "light"
     },
     "output_type": "display_data"
    },
    {
     "data": {
      "image/png": "[encoded data removed]",
      "text/plain": [
       "<Figure size 432x288 with 1 Axes>"
      ]
     },
     "metadata": {
      "needs_background": "light"
     },
     "output_type": "display_data"
    }
   ],
   "source": [
    "episodes_list = list(range(len(return_list)))\n",
    "plt.plot(episodes_list, return_list)\n",
    "plt.xlabel('Episodes')\n",
    "plt.ylabel('Returns')\n",
    "plt.title('PPO on {}'.format(env_name))\n",
    "plt.show()\n",
    "\n",
    "mv_return = rl_utils.moving_average(return_list, 21)\n",
    "plt.plot(episodes_list, mv_return)\n",
    "plt.xlabel('Episodes')\n",
    "plt.ylabel('Returns')\n",
    "plt.title('PPO on {}'.format(env_name))\n",
    "plt.show()"
   ]
  }
 ],
 "metadata": {
  "colab": {
   "collapsed_sections": [],
   "name": "第12章-PPO算法.ipynb",
   "provenance": []
  },
  "kernelspec": {
   "display_name": "HandsonRL",
   "language": "python",
   "name": "python3"
  },
  "language_info": {
   "codemirror_mode": {
    "name": "ipython",
    "version": 3
   },
   "file_extension": ".py",
   "mimetype": "text/x-python",
   "name": "python",
   "nbconvert_exporter": "python",
   "pygments_lexer": "ipython3",
   "version": "3.8.20"
  }
 },
 "nbformat": 4,
 "nbformat_minor": 1
}
